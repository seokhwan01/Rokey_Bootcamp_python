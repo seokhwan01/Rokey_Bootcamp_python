{
 "cells": [
  {
   "cell_type": "markdown",
   "metadata": {
    "vscode": {
     "languageId": "plaintext"
    }
   },
   "source": [
    "# OOP(Object-Oriented Programming)\n",
    "\n",
    "본 강좌에서는 객체지향 프로그래밍(OOP: Object-Oriented Programming)의 핵심 원칙과 설계 원칙에 대해 알아보겠습니다.\n"
   ]
  },
  {
   "cell_type": "markdown",
   "metadata": {},
   "source": [
    "## 1. 객체 지향의 4대 원칙\n"
   ]
  },
  {
   "cell_type": "markdown",
   "metadata": {},
   "source": [
    "### 캡슐화\n",
    "\n",
    "데이터(속성, 변수)와 이를 조작하는 메서드를 하나의 클래스로 묶음.\n",
    "\n",
    "외부에서 직접 데이터에 접근하는 것을 제한하고, getter, setter 등을 활용.\n",
    "\n",
    "#### 캡슐화의 장점\n",
    "\n",
    "**데이터 보호(Data Protection)**: 외부에서 직접 속성을 변경할 수 없으므로, 의도치 않은 데이터 변조를 방지할 수 있다.\n",
    "\n",
    "**코드 유지보수성 향상(Maintainability)**: 클래스 내부 구현을 변경해도, 외부에서 제공하는 인터페이스(메서드)는 유지되므로 코드 변경이 용이하다.\n",
    "\n",
    "**객체 간 결합도 낮춤(Loose Coupling)**: 객체가 직접 속성을 조작하는 대신 메서드를 통해 데이터를 조작하므로, 객체 간 의존성이 줄어든다.\n"
   ]
  },
  {
   "cell_type": "code",
   "execution_count": 9,
   "metadata": {},
   "outputs": [],
   "source": [
    "# 잘못된 예시: 속성이 public이라 외부에서 직접 변경 가능\n",
    "class Car:\n",
    "    def __init__(self, brand, speed=0):\n",
    "        self.brand = brand\n",
    "        self.speed = speed  # 직접 접근 가능하여 데이터 보호 부족\n",
    "\n",
    "\n",
    "# 올바른 예시\n",
    "class Car:\n",
    "    def __init__(self, brand, speed=0):\n",
    "        self.__brand = brand  # 속성을 private으로 설정 (외부에서 접근 불가)\n",
    "        self.__speed = speed  # 속성을 숨기고 메서드로만 접근\n",
    "\n",
    "    def accelerate(self, amount):\n",
    "        self.__speed += amount\n",
    "\n",
    "    def get_speed(self):\n",
    "        return self.__speed\n",
    "\n",
    "    def get_brand(self):\n",
    "        return self.__brand\n"
   ]
  },
  {
   "cell_type": "markdown",
   "metadata": {},
   "source": [
    "### 상속\n",
    "\n",
    "기존 클래스를 재사용하여 코드 중복을 줄이고 유지보수를 용이하게 함.\n",
    "\n",
    "부모 클래스의 기능을 자식 클래스가 물려받을 수 있도록 함.\n",
    "\n",
    "#### 상속의 장점\n",
    "\n",
    "**코드 재사용(Code Reusability)**: 기존의 클래스를 재사용하여 새로운 클래스를 만들 수 있어 코드 중복을 줄일 수 있다.\n",
    "\n",
    "**계층 구조(Hierarchy) 형성**: 여러 클래스를 계층적으로 설계하여 구조적인 코드 작성을 할 수 있다.\n",
    "\n",
    "**확장성(Extensibility)**: 부모 클래스의 기능을 확장하여 새로운 기능을 추가할 수 있다.\n",
    "\n",
    "**메서드 오버라이딩(Method Overriding)**: 자식 클래스에서 부모 클래스의 메서드를 재정의하여 기능을 변경할 수 있다.\n"
   ]
  },
  {
   "cell_type": "code",
   "execution_count": 6,
   "metadata": {},
   "outputs": [
    {
     "name": "stdout",
     "output_type": "stream",
     "text": [
      "Bark\n"
     ]
    }
   ],
   "source": [
    "# 잘못된 예시: 상속을 사용하지 않고 같은 기능을 여러 클래스에서 반복하여 작성함\n",
    "\n",
    "class Dog:\n",
    "    def __init__(self, name):\n",
    "        self.name = name\n",
    "\n",
    "    def make_sound(self):\n",
    "        return \"Bark\"\n",
    "\n",
    "class Cat:\n",
    "    def __init__(self, name):\n",
    "        self.name = name\n",
    "\n",
    "    def make_sound(self):\n",
    "        return \"Meow\"\n",
    "\n",
    "\n",
    "# 올바른 예시\n",
    "class Animal:\n",
    "    def __init__(self, name):\n",
    "        self.name = name\n",
    "\n",
    "    def make_sound(self):\n",
    "        pass \n",
    "\n",
    "class Dog(Animal):\n",
    "    def make_sound(self):\n",
    "        return \"Bark\"\n",
    "\n",
    "class Cat(Animal):\n",
    "    def make_sound(self):\n",
    "        return \"Meow\"\n",
    "\n",
    "dog = Dog(\"Buddy\")\n",
    "print(dog.make_sound())  # Bark\n",
    "\n"
   ]
  },
  {
   "cell_type": "markdown",
   "metadata": {},
   "source": [
    "### 다형성\n",
    "\n",
    "다형성(Polymorphism)은 같은 인터페이스(메서드, 함수 등)를 사용하지만, 서로 다른 클래스에서 다양한 동작을 수행할 수 있도록 하는 객체지향 프로그래밍(OOP)의 원칙 중 하나이다.\n",
    "\n",
    "즉, 하나의 코드가 여러 데이터 타입에서 동작할 수 있도록 만들어 코드의 유연성을 높이는 개념이다.\n",
    "\n",
    "#### 다형성의 장점\n",
    "\n",
    "**코드의 일관성 유지**: 모든 하위 클래스가 특정 기능(예: make_sound())을 구현하도록 강제할 수 있음.\n",
    "\n",
    "**템플릿 역할**: 상위 클래스에서 기본적인 틀을 제공하고, 세부 구현은 하위 클래스에 맡김.\n",
    "\n",
    "**다형성(Polymorphism) 활용 가능**: 부모 타입(추상 클래스)으로 다양한 하위 클래스의 객체를 다룰 수 있음.\n"
   ]
  },
  {
   "cell_type": "code",
   "execution_count": null,
   "metadata": {},
   "outputs": [],
   "source": [
    "# 다형성의 예시: 부모 클래스의 메서드를 자식 클래스에서 재정의(Override)하여 다르게 동작하도록 만드는 메서드 오버라이딩\n",
    "\n",
    "class Animal:\n",
    "    def make_sound(self):\n",
    "        return \"동물이 소리를 냅니다.\"\n",
    "\n",
    "class Dog(Animal):\n",
    "    def make_sound(self):  # 부모 클래스의 메서드를 오버라이딩\n",
    "        return \"멍멍!\"\n",
    "\n",
    "class Cat(Animal):\n",
    "    def make_sound(self):\n",
    "        return \"야옹!\"\n",
    "\n",
    "# 같은 메서드(make_sound)를 호출하지만, 객체의 타입에 따라 동작이 다름\n",
    "animals = [Dog(), Cat()]\n",
    "\n",
    "for animal in animals:\n",
    "    print(animal.make_sound())\n",
    "\n"
   ]
  },
  {
   "cell_type": "markdown",
   "metadata": {},
   "source": [
    "### 추상화\n",
    "\n",
    "추상화(Abstraction)는 객체지향 프로그래밍(OOP)의 중요한 개념 중 하나로, 불필요한 세부 사항을 숨기고 중요한 기능만을 제공하는 기법이다.\n",
    "즉, 사용자가 알아야 할 정보만 제공하고, 내부 구현은 감추는 것이 핵심이다.\n",
    "\n",
    "#### 추상화의 특징\n",
    "\n",
    "**복잡성을 저하**: 객체의 내부 동작을 감추고, 사용자는 필요한 기능만 사용하도록 설계할 수 있다.\n",
    "\n",
    "**유지보수성 향상**: 내부 구현을 변경해도, 외부에서 사용하는 인터페이스는 그대로 유지 가능\n",
    "\n",
    "**보안성 향상**: 중요한 데이터나 로직을 숨겨 직접 접근을 방지 가능\n"
   ]
  },
  {
   "cell_type": "code",
   "execution_count": null,
   "metadata": {},
   "outputs": [],
   "source": [
    "# 추상화의 예시\n",
    "# Payment 클래스는 결제 시스템의 공통 인터페이스(추상 클래스) 역할을 한다.\n",
    "# CreditCardPayment, PayPalPayment, CryptoPayment는 각각 다른 방식으로 결제를 수행하지만, 같은 pay() 메서드를 사용한다.\n",
    "# 사용자는 process_payment() 함수만 호출하면 되며, 결제 방식의 내부 구현을 알 필요가 없다.\n",
    "\n",
    "from abc import ABC, abstractmethod\n",
    "\n",
    "# 추상 클래스 (공통 인터페이스 제공)\n",
    "class Payment(ABC):\n",
    "    @abstractmethod\n",
    "    def pay(self, amount):\n",
    "        pass  # 자식 클래스에서 반드시 구현해야 함\n",
    "\n",
    "# 신용카드 결제 클래스\n",
    "class CreditCardPayment(Payment):\n",
    "    def pay(self, amount):\n",
    "        return f\"신용카드로 {amount}원 결제 완료\"\n",
    "\n",
    "# PayPal 결제 클래스\n",
    "class PayPalPayment(Payment):\n",
    "    def pay(self, amount):\n",
    "        return f\"PayPal로 {amount}원 결제 완료\"\n",
    "\n",
    "# 암호화폐 결제 클래스\n",
    "class CryptoPayment(Payment):\n",
    "    def pay(self, amount):\n",
    "        return f\"암호화폐로 {amount}원 결제 완료\"\n",
    "\n",
    "# 결제 처리 함수\n",
    "def process_payment(payment_method: Payment, amount: int):\n",
    "    print(payment_method.pay(amount))\n",
    "\n",
    "# 결제 시스템 사용\n",
    "process_payment(CreditCardPayment(), 50000)  # 신용카드로 50000원 결제 완료\n",
    "process_payment(PayPalPayment(), 30000)     # PayPal로 30000원 결제 완료\n",
    "process_payment(CryptoPayment(), 10000)     # 암호화폐로 10000원 결제 완료\n"
   ]
  }
 ],
 "metadata": {
  "kernelspec": {
   "display_name": "Python 3",
   "language": "python",
   "name": "python3"
  },
  "language_info": {
   "codemirror_mode": {
    "name": "ipython",
    "version": 3
   },
   "file_extension": ".py",
   "mimetype": "text/x-python",
   "name": "python",
   "nbconvert_exporter": "python",
   "pygments_lexer": "ipython3",
   "version": "3.12.4"
  }
 },
 "nbformat": 4,
 "nbformat_minor": 2
}
