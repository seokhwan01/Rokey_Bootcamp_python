{
 "cells": [
  {
   "cell_type": "markdown",
   "metadata": {},
   "source": [
    "# 1. 함수의 정의와 필요성\n",
    "\n",
    "함수(Function)란, 특정 작업을 수행하는 코드 블록입니다. 반복적으로 사용되는 코드를 함수로 만들어 코드의 재사용성을 높이고, 유지보수를 쉽게 합니다.\n",
    "\n",
    "- 재사용성: 여러 번 반복해서 사용할 코드를 함수로 만들어두면, 필요할 때마다 손쉽게 호출할 수 있습니다.\n",
    "- 가독성: 코드를 함수 단위로 나누면, 무엇을 하는 코드인지 명확히 알 수 있어 유지보수가 용이해집니다.\n",
    "- 모듈화: 프로그램을 여러 함수로 나눠 구성하면, 큰 프로젝트에서도 체계적으로 관리할 수 있습니다.\n"
   ]
  },
  {
   "cell_type": "markdown",
   "metadata": {},
   "source": [
    "<img width=\"500\" alt=\"image\" src=\"https://velog.velcdn.com/images/dyddn2015/post/63bb56d7-4d02-43eb-b2b1-6df67a3362cc/image.jpg\">\n"
   ]
  },
  {
   "cell_type": "markdown",
   "metadata": {},
   "source": [
    "# 2. 함수의 기본 구조\n",
    "\n",
    "<img width=\"650\" alt=\"image\" src=\"https://github.com/user-attachments/assets/bf974e63-ccde-4bcd-bf30-5f504b9b0031\">\n"
   ]
  },
  {
   "cell_type": "markdown",
   "metadata": {},
   "source": [
    "```python\n",
    "def 함수이름(매개변수1, 매개변수2, ...):\n",
    "    \"\"\"\n",
    "    함수에 대한 간단한 설명(문서화)\n",
    "    \"\"\"\n",
    "    # 수행할 코드\n",
    "    return 반환값\n",
    "```\n",
    "\n",
    "- def 키워드: 함수를 정의할 때 사용\n",
    "- 함수이름: 기능을 잘 나타내는 이름을 권장\n",
    "- 매개변수(Parameter): 함수 내부로 전달되는 입력값을 담는 변수\n",
    "- return: 함수를 종료하고, 값을 호출부로 돌려주는 키워드\n"
   ]
  },
  {
   "cell_type": "markdown",
   "metadata": {},
   "source": [
    "## 2.1 간단한 예시: 두 수의 합\n"
   ]
  },
  {
   "cell_type": "code",
   "execution_count": 1,
   "metadata": {},
   "outputs": [
    {
     "name": "stdout",
     "output_type": "stream",
     "text": [
      "두 수의 합: 8\n"
     ]
    }
   ],
   "source": [
    "# 두 수의 합을 계산하는 함수 정의\n",
    "def add_numbers(a, b):\n",
    "    return a + b\n",
    "\n",
    "# 함수 호출 및 사용\n",
    "result = add_numbers(3, 5)\n",
    "print(\"두 수의 합:\", result)"
   ]
  },
  {
   "cell_type": "markdown",
   "metadata": {},
   "source": [
    "### 도큐멘테이션 문자열(docstring)\n",
    "\n",
    "함수, 클래스, 또는 모듈에 대한 설명을 제공하는 텍스트로, 보통 함수 정의 바로 아래에 작성됩니다.\n",
    "Python의 내장 함수인 help()를 사용하면 docstring 내용을 출력할 수 있습니다.\n"
   ]
  },
  {
   "cell_type": "code",
   "execution_count": 2,
   "metadata": {},
   "outputs": [
    {
     "name": "stdout",
     "output_type": "stream",
     "text": [
      "Help on function calculate_area in module __main__:\n",
      "\n",
      "calculate_area(length, width=10)\n",
      "    가로, 세로를 입력받아 면적을 구하는 함수.\n",
      "    width에 기본값 10을 지정해놓으면,\n",
      "    호출 시 인자를 한 개만 넣어도 동작합니다.\n",
      "\n"
     ]
    }
   ],
   "source": [
    "# 별도의 모듈(파일)에 함수만 정의했을 수도 있고,\n",
    "# 클래스 내부 정적 메서드로 정의했을 수도 있습니다.\n",
    "\n",
    "def calculate_area(length, width=10):\n",
    "    \"\"\"\n",
    "    가로, 세로를 입력받아 면적을 구하는 함수.\n",
    "    width에 기본값 10을 지정해놓으면,\n",
    "    호출 시 인자를 한 개만 넣어도 동작합니다.\n",
    "    \"\"\"\n",
    "    return length * width\n",
    "\n",
    "\n",
    "help(calculate_area)  # 독스트링 출력"
   ]
  },
  {
   "cell_type": "markdown",
   "metadata": {},
   "source": [
    "## 3. 매개변수와 기본값(Default Parameter)\n",
    "\n",
    "- 함수의 매개변수에 기본값을 설정하면, 인자를 전달하지 않았을 때 해당 기본값을 사용합니다.\n"
   ]
  },
  {
   "cell_type": "code",
   "execution_count": 3,
   "metadata": {},
   "outputs": [
    {
     "name": "stdout",
     "output_type": "stream",
     "text": [
      "50\n",
      "35\n"
     ]
    }
   ],
   "source": [
    "# 아래 함수 calculate_area는 legth와 width라는 2개의 매개변수를 받는다.\n",
    "# 이 때 width는 기본값이 10으로 설정되어 있다.\n",
    "# 따라서 만약 width를 명시적으로 지정하지 않은 경우에는 10이 사용된다.\n",
    "\n",
    "\n",
    "def calculate_area(length, width=10):\n",
    "    return length * width\n",
    "\n",
    "\n",
    "# 호출 예시\n",
    "print(calculate_area(5))  # 출력: 50 (width는 기본값 10을 사용)\n",
    "print(calculate_area(5, 7))  # 출력: 35 (width를 7로 지정)"
   ]
  },
  {
   "cell_type": "code",
   "execution_count": 4,
   "metadata": {},
   "outputs": [
    {
     "name": "stdout",
     "output_type": "stream",
     "text": [
      "안녕하세요, 철수님!\n"
     ]
    }
   ],
   "source": [
    "#함수 예제\n",
    "\n",
    "def greet(name):\n",
    "    print(f\"안녕하세요, {name}님!\")\n",
    "\n",
    "greet(\"철수\")"
   ]
  },
  {
   "cell_type": "code",
   "execution_count": 5,
   "metadata": {},
   "outputs": [
    {
     "name": "stdout",
     "output_type": "stream",
     "text": [
      "영희님은 20세 입니다.\n",
      "민수님은 25세 입니다.\n"
     ]
    }
   ],
   "source": [
    "#함수 예제 2\n",
    "\n",
    "def introduce(name, age):\n",
    "    print(f\"{name}님은 {age}세 입니다.\")\n",
    "\n",
    "introduce(\"영희\", 20)\n",
    "\n",
    "introduce(age=25, name=\"민수\")"
   ]
  },
  {
   "cell_type": "markdown",
   "metadata": {},
   "source": [
    "# 4. 여러 개의 입력값 처리하기\n",
    "\n",
    "## 4.1 가변 인자 \\*args\n",
    "\n",
    "함수에 몇 개의 인자가 입력될지 모를 때는 어떻게 해야 할까요? 아마도 난감할 것입니다. 파이썬은 이런 문제를 해결하기 위해 다음과 같은 방법을 제공합니다.\n",
    "인자의 개수를 미리 알 수 없을 때, \\*args를 사용하면 원하는 만큼 값을 넣을 수 있습니다.\n",
    "\n",
    "```python\n",
    "\n",
    " def 함수이름(매개변수1, 매개변수2):\n",
    "    수행할 코드\n",
    "    return 반환값\n",
    "```\n"
   ]
  },
  {
   "cell_type": "markdown",
   "metadata": {},
   "source": [
    "다음 예를 통해 여러 개의 입력값을 모두 더하는 함수를 직접 만들어 보겠습니다.\n",
    "\n",
    "예를 들어 `add_many(1, 2, 3)`이면 `6`, `add_many(1, 2, 3, 4, 5, 6, 7, 8, 9, 10`)이면 `55`를 리턴하는 함수를 만들어 보겠습니다.\n"
   ]
  },
  {
   "cell_type": "code",
   "execution_count": 6,
   "metadata": {},
   "outputs": [
    {
     "name": "stdout",
     "output_type": "stream",
     "text": [
      "6\n",
      "55\n"
     ]
    }
   ],
   "source": [
    "#여러개의 입력을 받는 함수 에제\n",
    "\n",
    "def add_many(*args):\n",
    "    result = 0\n",
    "    for i in args:\n",
    "        result = result + i  # *args에 입력받은 모든 값을 더한다.\n",
    "    return result\n",
    "\n",
    "\n",
    "result = add_many(1, 2, 3)\n",
    "print(result)  # 6 출력\n",
    "\n",
    "result = add_many(1, 2, 3, 4, 5, 6, 7, 8, 9, 10)\n",
    "print(result)  # 55 출력"
   ]
  },
  {
   "cell_type": "code",
   "execution_count": 8,
   "metadata": {},
   "outputs": [
    {
     "name": "stdout",
     "output_type": "stream",
     "text": [
      "<class 'tuple'>\n"
     ]
    }
   ],
   "source": [
    "def print_args(*args):\n",
    "    print(args)\n",
    "\n",
    "# args는 튜플(tuple) 형태로 전달됩니다.\n",
    "\n",
    "print_args(1, 2, \"a\", \"b\") # (1, 2, 'a', 'b') 출력"
   ]
  },
  {
   "cell_type": "markdown",
   "metadata": {},
   "source": [
    "## 4.2 키워드 가변 인자 \\*\\*kwargs\n",
    "\n",
    "워드 인자를 딕셔너리 형태(dict)로 받아옵니다.\n"
   ]
  },
  {
   "cell_type": "code",
   "execution_count": 9,
   "metadata": {},
   "outputs": [
    {
     "name": "stdout",
     "output_type": "stream",
     "text": [
      "<class 'dict'>\n",
      "Alice : 80\n",
      "Bob : 90\n"
     ]
    }
   ],
   "source": [
    "# 여러 개의 키워드 인자를 딕셔너리 형태로 받는 **kwargs\n",
    "\n",
    "def display_scores(**kwargs):\n",
    "    print(kwargs)\n",
    "    for name, score in kwargs.items():\n",
    "        print(f\"{name} : {score}\")\n",
    "\n",
    "display_scores(Alice=\"80\", Bob=\"90\")\n"
   ]
  },
  {
   "cell_type": "markdown",
   "metadata": {},
   "source": [
    "# 5. 인자 전달 방식에서 자주 보는 오류\n",
    "\n",
    "기본값이 있는 매개변수는 항상 뒤쪽에 있어야 합니다.\n"
   ]
  },
  {
   "cell_type": "code",
   "execution_count": 15,
   "metadata": {},
   "outputs": [],
   "source": [
    "# # 올바른 예시\n",
    "# def example(a, b=4, c=5):\n",
    "#     return a + b + c\n",
    "\n",
    "# 잘못된 예시\n",
    "def example(a, b=4 ,c):\n",
    "    return a + b + c"
   ]
  },
  {
   "cell_type": "markdown",
   "metadata": {},
   "source": [
    "키워드 인자 다음에 위치 인자를 둘 수 없습니다.\n"
   ]
  },
  {
   "cell_type": "code",
   "execution_count": 19,
   "metadata": {},
   "outputs": [
    {
     "ename": "SyntaxError",
     "evalue": "positional argument follows keyword argument (2028363442.py, line 8)",
     "output_type": "error",
     "traceback": [
      "\u001b[0;36m  Cell \u001b[0;32mIn[19], line 8\u001b[0;36m\u001b[0m\n\u001b[0;31m    func(b=1, 2, 3)\u001b[0m\n\u001b[0m                  ^\u001b[0m\n\u001b[0;31mSyntaxError\u001b[0m\u001b[0;31m:\u001b[0m positional argument follows keyword argument\n"
     ]
    }
   ],
   "source": [
    "def func(a, b, c):\n",
    "    print(a, b, c)\n",
    "\n",
    "올바른 예시\n",
    "func(1, b=2, c=3)  # OK\n",
    "\n",
    "# 잘못된 예시\n",
    "# func(b=1, 2, 3) -> SyntaxError\n",
    "\n"
   ]
  },
  {
   "cell_type": "markdown",
   "metadata": {},
   "source": [
    "# 6. 언패킹(Unpacking)\n",
    "\n",
    "## 6.1 리스트 언패킹\n"
   ]
  },
  {
   "cell_type": "code",
   "execution_count": 21,
   "metadata": {},
   "outputs": [
    {
     "data": {
      "text/plain": [
       "6"
      ]
     },
     "execution_count": 21,
     "metadata": {},
     "output_type": "execute_result"
    }
   ],
   "source": [
    "def abc(a, b, c):\n",
    "    return a + b + c\n",
    "\n",
    "# 리스트 언패킹\n",
    "print(abc(*[1,2,3]) )  # 6\n",
    "\n",
    "# 아래처럼 리스트 전체를 넣으면 인자 3개가 필요해 오류 발생\n",
    "# abc([1, 2, 3]) 잘못된 예"
   ]
  },
  {
   "cell_type": "code",
   "execution_count": 23,
   "metadata": {},
   "outputs": [
    {
     "name": "stdout",
     "output_type": "stream",
     "text": [
      "55\n"
     ]
    }
   ],
   "source": [
    "\n",
    "def add_many(*args):\n",
    "    result = 0\n",
    "    for i in args:\n",
    "        result = result + i  # *args에 입력받은 모든 값을 더한다.\n",
    "    return result\n",
    "\n",
    "\n",
    "my_list = [1, 2, 3, 4, 5, 6, 7, 8, 9, 10]\n",
    "result = add_many(*my_list)\n",
    "print(result)  # 55 출력"
   ]
  },
  {
   "cell_type": "markdown",
   "metadata": {},
   "source": [
    "## 6.2 딕셔너리 언패킹\n"
   ]
  },
  {
   "cell_type": "code",
   "execution_count": 24,
   "metadata": {},
   "outputs": [
    {
     "name": "stdout",
     "output_type": "stream",
     "text": [
      "민수님은 25세 입니다.\n"
     ]
    }
   ],
   "source": [
    "def introduce(name, age):\n",
    "    print(f\"{name}님은 {age}세 입니다.\")\n",
    "\n",
    "info = {\"name\": \"민수\", \"age\": 25}\n",
    "introduce(**info)  # introduce(name=\"민수\", age=25) 와 동일"
   ]
  },
  {
   "cell_type": "code",
   "execution_count": 25,
   "metadata": {},
   "outputs": [
    {
     "name": "stdout",
     "output_type": "stream",
     "text": [
      "{'Alice': 'Hello', 'Bob': 'Hi'}\n",
      "Alice : Hello\n",
      "Bob : Hi\n"
     ]
    }
   ],
   "source": [
    "def greet_all(**kwargs):\n",
    "    print(kwargs)\n",
    "    for name, score in kwargs.items():\n",
    "        print(f\"{name} : {score}\")\n",
    "\n",
    "\n",
    "##### 실행 방법\n",
    "# dictionary unpecking / 딕셔너리 언패킹과 함께 쓸 수 있습니다.\n",
    "my_dict = {\"Alice\" : \"Hello\", \"Bob\" : \"Hi\"}\n",
    "greet_all(**my_dict)"
   ]
  },
  {
   "cell_type": "markdown",
   "metadata": {},
   "source": [
    "# 7. 함수와 타입 힌트(Type Hint)\n",
    "\n",
    "타입 힌트를 사용하면, 함수의 인자와 반환값이 어떤 타입인지 설명할 수 있어 코드 가독성과 유지보수성이 높아집니다.\n"
   ]
  },
  {
   "cell_type": "code",
   "execution_count": 26,
   "metadata": {},
   "outputs": [
    {
     "name": "stdout",
     "output_type": "stream",
     "text": [
      "6\n",
      "hellohellohellohellohellohellohellohellohellohello\n"
     ]
    }
   ],
   "source": [
    "def multiply(a: int, b: int, c: int) -> int:\n",
    "    return a * b * c\n",
    "\n",
    "print(multiply(1, 2, 3))  # 6\n",
    "\n",
    "print(multiply(\"hello\", 5, 2)) # -> 런타임 에러는 아니지만 권장 안 함 (mypy 등으로 정적 검사 가능)"
   ]
  },
  {
   "cell_type": "markdown",
   "metadata": {},
   "source": [
    "assert로 타입 엄격 체크\n"
   ]
  },
  {
   "cell_type": "code",
   "execution_count": 27,
   "metadata": {},
   "outputs": [
    {
     "ename": "AssertionError",
     "evalue": "'a' is not integer",
     "output_type": "error",
     "traceback": [
      "\u001b[0;31m---------------------------------------------------------------------------\u001b[0m",
      "\u001b[0;31mAssertionError\u001b[0m                            Traceback (most recent call last)",
      "Cell \u001b[0;32mIn[27], line 7\u001b[0m\n\u001b[1;32m      4\u001b[0m     \u001b[38;5;28;01massert\u001b[39;00m \u001b[38;5;28misinstance\u001b[39m(a, \u001b[38;5;28mint\u001b[39m), \u001b[38;5;124m\"\u001b[39m\u001b[38;5;124m'\u001b[39m\u001b[38;5;124ma\u001b[39m\u001b[38;5;124m'\u001b[39m\u001b[38;5;124m is not integer\u001b[39m\u001b[38;5;124m\"\u001b[39m\n\u001b[1;32m      5\u001b[0m     \u001b[38;5;28;01mreturn\u001b[39;00m a \u001b[38;5;241m+\u001b[39m b \u001b[38;5;241m+\u001b[39m c\n\u001b[0;32m----> 7\u001b[0m \u001b[43mabc\u001b[49m\u001b[43m(\u001b[49m\u001b[38;5;241;43m1.2\u001b[39;49m\u001b[43m,\u001b[49m\u001b[43m \u001b[49m\u001b[38;5;241;43m2\u001b[39;49m\u001b[43m,\u001b[49m\u001b[43m \u001b[49m\u001b[38;5;241;43m3\u001b[39;49m\u001b[43m)\u001b[49m  \u001b[38;5;66;03m# AssertionError: 'a' is not integer\u001b[39;00m\n",
      "Cell \u001b[0;32mIn[27], line 4\u001b[0m, in \u001b[0;36mabc\u001b[0;34m(a, b, c)\u001b[0m\n\u001b[1;32m      3\u001b[0m \u001b[38;5;28;01mdef\u001b[39;00m \u001b[38;5;21mabc\u001b[39m(a: \u001b[38;5;28mint\u001b[39m, b: \u001b[38;5;28mint\u001b[39m, c: \u001b[38;5;28mint\u001b[39m) \u001b[38;5;241m-\u001b[39m\u001b[38;5;241m>\u001b[39m \u001b[38;5;28mint\u001b[39m:\n\u001b[0;32m----> 4\u001b[0m     \u001b[38;5;28;01massert\u001b[39;00m \u001b[38;5;28misinstance\u001b[39m(a, \u001b[38;5;28mint\u001b[39m), \u001b[38;5;124m\"\u001b[39m\u001b[38;5;124m'\u001b[39m\u001b[38;5;124ma\u001b[39m\u001b[38;5;124m'\u001b[39m\u001b[38;5;124m is not integer\u001b[39m\u001b[38;5;124m\"\u001b[39m\n\u001b[1;32m      5\u001b[0m     \u001b[38;5;28;01mreturn\u001b[39;00m a \u001b[38;5;241m+\u001b[39m b \u001b[38;5;241m+\u001b[39m c\n",
      "\u001b[0;31mAssertionError\u001b[0m: 'a' is not integer"
     ]
    }
   ],
   "source": [
    "# 런타임에 실질적으로 타입을 강제하려면 assert를 사용할 수 있습니다.\n",
    "\n",
    "def abc(a: int, b: int, c: int) -> int:\n",
    "    assert isinstance(a, int), \"'a' is not integer\"\n",
    "    return a + b + c\n",
    "\n",
    "abc(1.2, 2, 3)  # AssertionError: 'a' is not integer"
   ]
  },
  {
   "cell_type": "code",
   "execution_count": null,
   "metadata": {},
   "outputs": [
    {
     "ename": "TypeError",
     "evalue": "'a' is not integer",
     "output_type": "error",
     "traceback": [
      "\u001b[0;31m---------------------------------------------------------------------------\u001b[0m",
      "\u001b[0;31mTypeError\u001b[0m                                 Traceback (most recent call last)",
      "Cell \u001b[0;32mIn[30], line 5\u001b[0m\n\u001b[1;32m      2\u001b[0m     \u001b[38;5;28;01mif\u001b[39;00m \u001b[38;5;28mtype\u001b[39m(a) \u001b[38;5;241m!=\u001b[39m \u001b[38;5;28mint\u001b[39m \u001b[38;5;129;01mor\u001b[39;00m \u001b[38;5;28mtype\u001b[39m(b) \u001b[38;5;241m!=\u001b[39m \u001b[38;5;28mint\u001b[39m \u001b[38;5;129;01mor\u001b[39;00m \u001b[38;5;28mtype\u001b[39m(c) \u001b[38;5;241m!=\u001b[39m \u001b[38;5;28mint\u001b[39m:\n\u001b[1;32m      3\u001b[0m         \u001b[38;5;28;01mraise\u001b[39;00m \u001b[38;5;167;01mTypeError\u001b[39;00m(\u001b[38;5;124m\"\u001b[39m\u001b[38;5;124m'\u001b[39m\u001b[38;5;124ma\u001b[39m\u001b[38;5;124m'\u001b[39m\u001b[38;5;124m is not integer\u001b[39m\u001b[38;5;124m\"\u001b[39m)\n\u001b[0;32m----> 5\u001b[0m \u001b[43mabc\u001b[49m\u001b[43m(\u001b[49m\u001b[38;5;241;43m1\u001b[39;49m\u001b[43m,\u001b[49m\u001b[43m \u001b[49m\u001b[38;5;241;43m2.2\u001b[39;49m\u001b[43m,\u001b[49m\u001b[43m \u001b[49m\u001b[38;5;241;43m3\u001b[39;49m\u001b[43m)\u001b[49m\n",
      "Cell \u001b[0;32mIn[30], line 3\u001b[0m, in \u001b[0;36mabc\u001b[0;34m(a, b, c)\u001b[0m\n\u001b[1;32m      1\u001b[0m \u001b[38;5;28;01mdef\u001b[39;00m \u001b[38;5;21mabc\u001b[39m(a: \u001b[38;5;28mint\u001b[39m, b: \u001b[38;5;28mint\u001b[39m, c: \u001b[38;5;28mint\u001b[39m) \u001b[38;5;241m-\u001b[39m\u001b[38;5;241m>\u001b[39m \u001b[38;5;28mint\u001b[39m:\n\u001b[1;32m      2\u001b[0m     \u001b[38;5;28;01mif\u001b[39;00m \u001b[38;5;28mtype\u001b[39m(a) \u001b[38;5;241m!=\u001b[39m \u001b[38;5;28mint\u001b[39m \u001b[38;5;129;01mor\u001b[39;00m \u001b[38;5;28mtype\u001b[39m(b) \u001b[38;5;241m!=\u001b[39m \u001b[38;5;28mint\u001b[39m \u001b[38;5;129;01mor\u001b[39;00m \u001b[38;5;28mtype\u001b[39m(c) \u001b[38;5;241m!=\u001b[39m \u001b[38;5;28mint\u001b[39m:\n\u001b[0;32m----> 3\u001b[0m         \u001b[38;5;28;01mraise\u001b[39;00m \u001b[38;5;167;01mTypeError\u001b[39;00m(\u001b[38;5;124m\"\u001b[39m\u001b[38;5;124m'\u001b[39m\u001b[38;5;124ma\u001b[39m\u001b[38;5;124m'\u001b[39m\u001b[38;5;124m is not integer\u001b[39m\u001b[38;5;124m\"\u001b[39m)\n",
      "\u001b[0;31mTypeError\u001b[0m: 'a' is not integer"
     ]
    }
   ],
   "source": [
    "def abc(a: int, b: int, c: int) -> int:\n",
    "    if type(a) != int or type(b) != int or type(c) != int:\n",
    "        raise TypeError(\"integer가 아닌값이 있습다\")\n",
    "\n",
    "abc(1, 2.2, 3)"
   ]
  },
  {
   "cell_type": "markdown",
   "metadata": {},
   "source": [
    "# 8. 변수의 스코프(Scope)\n"
   ]
  },
  {
   "cell_type": "markdown",
   "metadata": {},
   "source": [
    "## 8.1 전역 변수와 지역 변수\n",
    "\n",
    "- 지역 변수(Local Variable): 함수 내부에서만 살아있고, 함수가 끝나면 사라짐\n",
    "- 전역 변수(Global Variable): 스크립트 전체(혹은 모듈 전체)에서 접근 가능\n"
   ]
  },
  {
   "cell_type": "code",
   "execution_count": 31,
   "metadata": {},
   "outputs": [
    {
     "ename": "UnboundLocalError",
     "evalue": "local variable 'a' referenced before assignment",
     "output_type": "error",
     "traceback": [
      "\u001b[0;31m---------------------------------------------------------------------------\u001b[0m",
      "\u001b[0;31mUnboundLocalError\u001b[0m                         Traceback (most recent call last)",
      "Cell \u001b[0;32mIn[31], line 8\u001b[0m\n\u001b[1;32m      5\u001b[0m     a \u001b[38;5;241m=\u001b[39m a \u001b[38;5;241m+\u001b[39m \u001b[38;5;241m1\u001b[39m\n\u001b[1;32m      6\u001b[0m     \u001b[38;5;28mprint\u001b[39m(a)\n\u001b[0;32m----> 8\u001b[0m \u001b[43mvartest\u001b[49m\u001b[43m(\u001b[49m\u001b[43m)\u001b[49m  \u001b[38;5;66;03m# UnboundLocalError\u001b[39;00m\n",
      "Cell \u001b[0;32mIn[31], line 5\u001b[0m, in \u001b[0;36mvartest\u001b[0;34m()\u001b[0m\n\u001b[1;32m      3\u001b[0m \u001b[38;5;28;01mdef\u001b[39;00m \u001b[38;5;21mvartest\u001b[39m():\n\u001b[1;32m      4\u001b[0m     \u001b[38;5;66;03m# 아래 코드는 지역 변수 a를 선언하기 전에 'a'를 참조 -> UnboundLocalError 발생\u001b[39;00m\n\u001b[0;32m----> 5\u001b[0m     a \u001b[38;5;241m=\u001b[39m \u001b[43ma\u001b[49m \u001b[38;5;241m+\u001b[39m \u001b[38;5;241m1\u001b[39m\n\u001b[1;32m      6\u001b[0m     \u001b[38;5;28mprint\u001b[39m(a)\n",
      "\u001b[0;31mUnboundLocalError\u001b[0m: local variable 'a' referenced before assignment"
     ]
    }
   ],
   "source": [
    "a = 1  # 전역 변수\n",
    "\n",
    "def vartest():\n",
    "    # 아래 코드는 지역 변수 a를 선언하기 전에 'a'를 참조 -> UnboundLocalError 발생\n",
    "    a = a + 1\n",
    "    print(a)\n",
    "\n",
    "vartest()  # UnboundLocalError"
   ]
  },
  {
   "cell_type": "markdown",
   "metadata": {},
   "source": [
    "해결 방법 1) 파라미터로 전달\n"
   ]
  },
  {
   "cell_type": "code",
   "execution_count": 34,
   "metadata": {},
   "outputs": [
    {
     "name": "stdout",
     "output_type": "stream",
     "text": [
      "2\n"
     ]
    }
   ],
   "source": [
    "a = 1\n",
    "\n",
    "def vartest_param(x):\n",
    "    x = x + 1\n",
    "    return x\n",
    "\n",
    "A = vartest_param(a)\n",
    "print(A)  # 2"
   ]
  },
  {
   "cell_type": "markdown",
   "metadata": {},
   "source": [
    "해결 방법 2) global 키워드 사용\n",
    "\n",
    "- 주의: global은 전역 변수의 값이 여러 곳에서 예상치 못하게 바뀔 수 있으므로 사용 시 주의가 필요합니다.\n"
   ]
  },
  {
   "cell_type": "code",
   "execution_count": 37,
   "metadata": {},
   "outputs": [
    {
     "name": "stdout",
     "output_type": "stream",
     "text": [
      "2\n"
     ]
    }
   ],
   "source": [
    "a = 1\n",
    "\n",
    "def vartest_global():\n",
    "    global a\n",
    "    a = a + 1\n",
    "\n",
    "vartest_global()\n",
    "print(a)  # 2\n"
   ]
  },
  {
   "cell_type": "markdown",
   "metadata": {},
   "source": [
    "# 9. 람다(lambda) 함수\n"
   ]
  },
  {
   "cell_type": "markdown",
   "metadata": {},
   "source": [
    "람다는 한 줄로 함수를 간단히 표현하는 문법입니다.\n"
   ]
  },
  {
   "cell_type": "code",
   "execution_count": null,
   "metadata": {},
   "outputs": [
    {
     "name": "stdout",
     "output_type": "stream",
     "text": [
      "7\n"
     ]
    }
   ],
   "source": [
    "def sum(a, b):\n",
    "    return a + b\n",
    "\n",
    "# 람다 표현\n",
    "add = lambda a, b: a + b\n",
    "\n",
    "print(sum(3, 4))  # 7\n",
    "print(add(3, 4))  # 7"
   ]
  },
  {
   "cell_type": "markdown",
   "metadata": {},
   "source": [
    "기본값 지정도 가능\n"
   ]
  },
  {
   "cell_type": "code",
   "execution_count": null,
   "metadata": {},
   "outputs": [
    {
     "name": "stdout",
     "output_type": "stream",
     "text": [
      "10\n"
     ]
    }
   ],
   "source": [
    "add = lambda a, b=7: a + b\n",
    "\n",
    "result = add(3)\n",
    "print(result)  # 10 출력"
   ]
  },
  {
   "cell_type": "markdown",
   "metadata": {},
   "source": [
    "## 9.1 정렬에서 람다 활용\n"
   ]
  },
  {
   "cell_type": "code",
   "execution_count": 10,
   "metadata": {},
   "outputs": [
    {
     "name": "stdout",
     "output_type": "stream",
     "text": [
      "[[1, 8, 9], [4, 5, 7], [7, 9, 5]]\n",
      "[[4, 5, 7], [1, 8, 9], [7, 9, 5]]\n",
      "[[7, 9, 5], [4, 5, 7], [1, 8, 9]]\n",
      "정렬 후(키 기준): [(1, 'z'), (3, 'c'), (4, 'v'), (6, 'x')]\n",
      "정렬 후(값 기준): [(3, 'c'), (4, 'v'), (6, 'x'), (1, 'z')]\n"
     ]
    }
   ],
   "source": [
    "my_list = [[1, 8, 9], [4, 5, 7], [7, 9, 5]]\n",
    "print(sorted(my_list, key=lambda x: x[0]))  # 첫 번째 요소 기준 정렬\n",
    "print(sorted(my_list, key=lambda x: x[1]))  # 두 번째 요소 기준 정렬\n",
    "print(sorted(my_list, key=lambda x: x[2]))  # 세 번째 요소 기준 정렬\n",
    "\n",
    "my_dict = {1: \"z\", 6: \"x\", 3: \"c\", 4: \"v\"}\n",
    "print(\"정렬 후(키 기준):\", sorted(my_dict.items(), key=lambda x: x[0]))\n",
    "print(\"정렬 후(값 기준):\", sorted(my_dict.items(), key=lambda x: x[1]))"
   ]
  },
  {
   "cell_type": "markdown",
   "metadata": {},
   "source": [
    "# 10. 함수 심화 주제\n",
    "\n",
    "## 10.1 키워드 전용 인자(Keyword-Only Arguments)\n",
    "\n",
    "파이썬 3.8+에서는 \\*, 이후에 오는 매개변수는 반드시 키워드 인자로만 호출해야 합니다.\n"
   ]
  },
  {
   "cell_type": "code",
   "execution_count": 41,
   "metadata": {},
   "outputs": [
    {
     "name": "stdout",
     "output_type": "stream",
     "text": [
      "8\n"
     ]
    }
   ],
   "source": [
    "def calc(a, b, *, c=10):\n",
    "    return a + b + c\n",
    "\n",
    "# c는 키워드로만 전달 가능\n",
    "print(calc(1, 2, c = 5))  # OK\n",
    "# print(calc(1, 2, 5))  -> TypeError (c는 키워드 인자여야 함)\n"
   ]
  },
  {
   "cell_type": "markdown",
   "metadata": {},
   "source": [
    "## 10.2 데코레이터(Decorator)\n",
    "\n",
    "데코레이터는 **함수를 '포장'** 하여 부가 기능을 쉽게 추가할 수 있게 해줍니다.\n"
   ]
  },
  {
   "cell_type": "code",
   "execution_count": 42,
   "metadata": {},
   "outputs": [
    {
     "name": "stdout",
     "output_type": "stream",
     "text": [
      "[START] 함수가 시작됩니다.\n",
      "Hello, Alice!\n",
      "[END] 함수가 종료되었습니다.\n"
     ]
    }
   ],
   "source": [
    "def my_decorator(func):\n",
    "    def wrapper(*args, **kwargs):\n",
    "        print(\"[START] 함수가 시작됩니다.\")\n",
    "        result = func(*args, **kwargs)\n",
    "        print(\"[END] 함수가 종료되었습니다.\")\n",
    "        return result\n",
    "    return wrapper\n",
    "\n",
    "\n",
    "\n",
    "@my_decorator\n",
    "def greet(name):\n",
    "    print(f\"Hello, {name}!\")\n",
    "\n",
    "greet(\"Alice\")\n",
    "\n",
    "\n",
    "#####  데코레이터(Decorator)활용 예시: 로깅, 성능 측정, 권한 검사 등 부가 기능을 간단히 적용."
   ]
  },
  {
   "cell_type": "code",
   "execution_count": 45,
   "metadata": {},
   "outputs": [
    {
     "name": "stdout",
     "output_type": "stream",
     "text": [
      "작업 실행 중...\n",
      "'example_function' 함수 실행 시간: 2.0016초\n"
     ]
    }
   ],
   "source": [
    "##### 데코레이터 함수 사용 예시\n",
    "\n",
    "import time\n",
    "\n",
    "# 데코레이터 정의\n",
    "def timer_decorator(func):\n",
    "    def wrapper(*args, **kwargs):\n",
    "        start_time = time.time()  # 함수 시작 시간 기록\n",
    "        result = func(*args, **kwargs)  # 원래 함수 실행\n",
    "        end_time = time.time()  # 함수 종료 시간 기록\n",
    "        print(f\"'{func.__name__}' 함수 실행 시간: {end_time - start_time:.4f}초\")\n",
    "        return result\n",
    "    return wrapper\n",
    "\n",
    "# 데코레이터 사용\n",
    "@timer_decorator\n",
    "def example_function():\n",
    "    print(\"작업 실행 중...\")\n",
    "    time.sleep(2)  # 2초 대기\n",
    "\n",
    "\n",
    "# 함수 호출\n",
    "example_function()"
   ]
  },
  {
   "cell_type": "markdown",
   "metadata": {},
   "source": [
    "# 10.3 클로저(Closure)\n",
    "\n",
    "함수 안에 정의된 내부 함수가 외부 함수의 지역 변수를 계속 기억하는 기법입니다.\n"
   ]
  },
  {
   "cell_type": "code",
   "execution_count": null,
   "metadata": {},
   "outputs": [
    {
     "name": "stdout",
     "output_type": "stream",
     "text": [
      "<class 'function'>\n",
      "30\n",
      "50\n"
     ]
    }
   ],
   "source": [
    "def make_multiplier(n):\n",
    "    def multiply(x):\n",
    "        print(\"x =\", x)\n",
    "        return x * n\n",
    "    return multiply  # 내부 함수 반환\n",
    "\n",
    "times3 = make_multiplier(3)\n",
    "times5 = make_multiplier(5)\n",
    "\n",
    "\n",
    "\n",
    "print(times3(10))  # 30\n",
    "print(times5(10))  # 50\n",
    "\n",
    "\n",
    "#### times3와 times5는 각각 자신만의 n 값을 기억합니다."
   ]
  },
  {
   "cell_type": "code",
   "execution_count": 8,
   "metadata": {},
   "outputs": [
    {
     "name": "stdout",
     "output_type": "stream",
     "text": [
      "1\n",
      "2\n",
      "3\n"
     ]
    }
   ],
   "source": [
    "##### 클로저 함수 사용 예시\n",
    "\n",
    "\n",
    "def counter():\n",
    "    count = 0  # 외부 변수\n",
    "\n",
    "    def increment():\n",
    "        nonlocal count  # 외부 변수 수정\n",
    "        count += 1\n",
    "        return count\n",
    "\n",
    "    return increment\n",
    "\n",
    "# 클로저 생성\n",
    "count_calls = counter()\n",
    "\n",
    "# 클로저 호출\n",
    "print(count_calls())  # 1\n",
    "print(count_calls())  # 2\n",
    "print(count_calls())  # 3\n"
   ]
  },
  {
   "cell_type": "markdown",
   "metadata": {},
   "source": [
    "# 11. 클래스(Class)와 함수\n",
    "\n",
    "클래스는 객체(object)를 생성하기 위한 청사진(blueprint) 역할을 합니다.\n",
    "객체는 클래스로부터 만들어지는 실체이며, 이때 함수를 클래스 내부에 정의하면 메서드(Method)라고 부릅니다.\n",
    "\n",
    "## 11.1 클래스 기본 구조\n",
    "\n",
    "<img width=\"700\" alt=\"class_structure\" src=\"https://github.com/user-attachments/assets/6d957f7b-1170-4ed5-b19c-7fdb0be2b998\">\n",
    "\n",
    "1. class 키워드: 클래스를 정의할 때 사용.\n",
    "2. 클래스명: 보통 파스칼 케이스(PascalCase)로 작성 (ex: MyClass).\n",
    "3. 생성자(init): 인스턴스가 생성될 때 자동으로 호출되는 메서드.\n",
    "4. self: 메서드가 호출된 객체 자신을 가리키는 키워드.\n",
    "   - 모든 인스턴스 메서드의 첫 번째 매개변수로 들어가며, 파이썬이 내부적으로 관리합니다.\n",
    "5. 인스턴스 변수: self.name, self.age 처럼 self를 사용해 정의한 변수. 각각의 객체마다 독립적으로 존재합니다.\n",
    "6. 메서드: 클래스 내부에서 정의된 함수. 객체가 수행할 수 있는 동작을 정의합니다.\n",
    "\n",
    "클래스 Dog 예시\n"
   ]
  },
  {
   "cell_type": "code",
   "execution_count": null,
   "metadata": {},
   "outputs": [],
   "source": [
    "class Dog:\n",
    "    # 초기화 메서드(생성자)\n",
    "    def __init__(self, name, age):\n",
    "        print(\"Dog 인스턴스 객체가 생성되었습니다\")\n",
    "        self.name = name  # 인스턴스 변수\n",
    "        self.age = age    # 인스턴스 변수\n",
    "        self.dog_type = \"Poodle\"\n",
    "\n",
    "    # 메서드\n",
    "    def bark(self, n):\n",
    "        \"\"\"강아지가 n번 짖는 동작을 표현하는 메서드\"\"\"\n",
    "        return f\"{self.name} says Woof! \" * n\n",
    "\n",
    "    def get_dog_age(self):\n",
    "        \"\"\"강아지의 실제 나이를 반환\"\"\"\n",
    "        return self.age\n",
    "\n",
    "    def get_human_age(self):\n",
    "        \"\"\"강아지 나이를 인간 기준으로 환산(예: 7배)\"\"\"\n",
    "        return self.age * 7\n",
    "\n",
    "    def add_age(self):\n",
    "        \"\"\"강아지 나이를 1살 증가\"\"\"\n",
    "        self.age += 1\n",
    "\n",
    "    def get_type(self):\n",
    "        \"\"\"강아지의 품종 정보를 출력\"\"\"\n",
    "        print(self.dog_type)\n",
    "\n",
    "\n",
    "# 객체 생성\n",
    "robin_dog = Dog(\"Buddy\", 4)       # Dog 클래스의 인스턴스\n",
    "matthew_dog = Dog(\"Lucy\", 2)      # Dog 클래스의 또 다른 인스턴스\n",
    "\n",
    "# 인스턴스 변수 접근\n",
    "print(robin_dog.name)             # \"Buddy\"\n",
    "print(matthew_dog.name)           # \"Lucy\"\n",
    "\n",
    "# 메서드 호출\n",
    "matthew_dog.get_type()            # Poodle\n",
    "\n",
    "print(robin_dog.bark(1))          # Buddy says Woof!\n",
    "print(robin_dog.get_dog_age())    # 4\n",
    "print(robin_dog.get_human_age())  # 28 (4 * 7)\n",
    "robin_dog.add_age()               # 나이 1 살 증가\n",
    "print(robin_dog.get_dog_age())    # 5\n"
   ]
  },
  {
   "cell_type": "markdown",
   "metadata": {},
   "source": [
    "### 주요 개념 정리\n",
    "\n",
    "1. self\n",
    "\n",
    "   - 메서드가 호출된 객체를 가리킵니다.\n",
    "   - self.name처럼, 각각의 객체가 고유한 인스턴스 변수를 갖도록 도와줍니다.\n",
    "\n",
    "2. 인스턴스 변수 (예: self.name, self.age)\n",
    "   - 같은 클래스로부터 생성된 객체라도, 서로 다른 값을 가질 수 있습니다.\n",
    "3. 객체(Object)와 인스턴스(Instance)\n",
    "   - 객체: 클래스로부터 생성된 실체\n",
    "   - 인스턴스: 특정 클래스에 의해 만들어진 객체를 가리키는 말\n",
    "   - 대부분의 경우 ‘객체’와 ‘인스턴스’는 비슷한 의미로 쓰이지만, 개념적으로 구분하는 것이 좋습니다.\n"
   ]
  },
  {
   "cell_type": "markdown",
   "metadata": {},
   "source": [
    "## 11.2 클래스 상속(Inheritance)\n",
    "\n",
    "상속은 기존 클래스(부모 클래스, 슈퍼 클래스)의 기능을 물려받아 새로운 클래스(자식 클래스, 서브 클래스)를 만드는 기법입니다.\n",
    "\n",
    "장점: 코드 재사용이 용이하고, 확장이 쉽습니다.\n"
   ]
  },
  {
   "cell_type": "code",
   "execution_count": null,
   "metadata": {},
   "outputs": [],
   "source": [
    "class Puppy(Dog):  # Dog 클래스를 상속받음\n",
    "    def play(self):\n",
    "        return f\"{self.name} is playing!\"\n",
    "\n",
    "\n",
    "my_puppy = Puppy(\"Max\", 1)\n",
    "print(my_puppy.bark(2))   # 상위 클래스 Dog의 메서드를 그대로 사용\n",
    "print(my_puppy.play())    # Puppy 클래스에 새로 정의된 메서드\n"
   ]
  },
  {
   "cell_type": "markdown",
   "metadata": {},
   "source": [
    "- class Puppy(Dog): 구문은 Puppy 클래스가 Dog 클래스를 상속한다는 의미입니다.\n",
    "- my_puppy 인스턴스는 bark() 같은 Dog의 메서드도 사용할 수 있고, play()라는 Puppy 전용 메서드도 사용할 수 있습니다.\n"
   ]
  },
  {
   "cell_type": "markdown",
   "metadata": {},
   "source": [
    "## 11.3 클래스와 함수, 어떤 관계인가?\n",
    "\n",
    "- 클래스 내부에 정의된 함수는 메서드라고 부릅니다.\n",
    "- 일반 함수(def)와 달리, **메서드는 반드시 첫 번째 매개변수로 self**를 갖습니다(인스턴스 메서드의 경우).\n",
    "- 함수는 언제든 호출할 수 있지만, 메서드는 해당 객체(인스턴스)를 통해서만 호출됩니다.\n"
   ]
  },
  {
   "cell_type": "code",
   "execution_count": null,
   "metadata": {},
   "outputs": [],
   "source": [
    "def standalone_function(x, y):\n",
    "    return x + y\n",
    "\n",
    "class MathClass:\n",
    "    def __init__(self, base):\n",
    "        self.base = base\n",
    "    \n",
    "    def add_to_base(self, value):\n",
    "        return self.base + value\n",
    "\n",
    "m = MathClass(10)\n",
    "print(m.add_to_base(5))  # 10 + 5 = 15\n"
   ]
  },
  {
   "cell_type": "markdown",
   "metadata": {},
   "source": [
    "- 함수와 클래스는 서로 다른 개념이지만, 필요에 따라 함수를 클래스 내부(메서드) 혹은 외부에 정의해 사용할 수 있습니다.\n"
   ]
  },
  {
   "cell_type": "code",
   "execution_count": null,
   "metadata": {},
   "outputs": [],
   "source": [
    "class Example:\n",
    "    class_variable = 0\n",
    "\n",
    "    @classmethod\n",
    "    def set_class_variable(self, cls, value):\n",
    "        cls.class_variable = value\n",
    "\n",
    "    @staticmethod\n",
    "    def static_method_info():\n",
    "        print(\"이 메서드는 객체나 클래스에 의존하지 않는 로직을 담당합니다.\")\n",
    "\n",
    "\n",
    "my_class = Example()\n",
    "my_class2 = Example()"
   ]
  },
  {
   "cell_type": "markdown",
   "metadata": {},
   "source": [
    "## 11.4 정리\n",
    "\n",
    "- 클래스(Class): 객체를 만들기 위한 설계도\n",
    "- 객체(Object): 클래스로부터 만들어진 실체\n",
    "- 메서드(Method): 클래스 내부에 정의된 함수 (첫 번째 매개변수로 보통 self 사용)\n",
    "- 인스턴스 변수: self.변수명 형태로 각 객체마다 별도로 관리되는 값\n",
    "- 상속: 코드 재사용성을 높이기 위해 클래스 간 계층 구조를 형성하는 기법\n",
    "\n",
    "클래스를 통해 객체지향 프로그래밍(OOP)의 특징인 캡슐화, 상속, 다형성 등을 효과적으로 구현할 수 있습니다. 실제로 사용 예제를 많이 작성해보며, 클래스와 함수를 어떻게 구조화할지 고민해보는 것이 중요합니다.\n"
   ]
  }
 ],
 "metadata": {
  "kernelspec": {
   "display_name": "Python 3",
   "language": "python",
   "name": "python3"
  },
  "language_info": {
   "codemirror_mode": {
    "name": "ipython",
    "version": 3
   },
   "file_extension": ".py",
   "mimetype": "text/x-python",
   "name": "python",
   "nbconvert_exporter": "python",
   "pygments_lexer": "ipython3",
   "version": "3.10.12"
  }
 },
 "nbformat": 4,
 "nbformat_minor": 2
}
