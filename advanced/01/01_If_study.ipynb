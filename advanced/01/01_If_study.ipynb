{
 "cells": [
  {
   "cell_type": "markdown",
   "id": "eb9123f9",
   "metadata": {},
   "source": [
    "## 1. If문의 필요성\n",
    "\n",
    "자판기를 생각해봅시다. \n",
    "자판기는 우리가 넣은 돈이 상품 가격보다 많거나 같으면 상품을 제공하고, 적으면 제공하지 않습니다.\n",
    "이처럼 **주어진 조건을 판단**하고 그에 따라 **다른 동작**을 해야 할 때, 프로그래밍에서는 `if` 문을 사용합니다."
   ]
  },
  {
   "cell_type": "markdown",
   "id": "0d7883c9",
   "metadata": {},
   "source": [
    "## 2. If문의 기본 구조\n",
    "\n",
    "`if`, `elif`, `else` 3가지를 조합해 다양한 상황을 처리할 수 있습니다."
   ]
  },
  {
   "cell_type": "code",
   "execution_count": 1,
   "id": "e49be7d7",
   "metadata": {},
   "outputs": [
    {
     "name": "stdout",
     "output_type": "stream",
     "text": [
      "Writing if_structure_example.py\n"
     ]
    }
   ],
   "source": [
    "%%writefile if_structure_example.py\n",
    "if 조건문:\n",
    "    # 조건문이 참(True)일 때 실행할 코드\n",
    "    pass  # 예시로 pass 작성\n",
    "elif 다른_조건문:\n",
    "    # 위 if가 거짓(False)이고, 이 조건문이 참(True)일 때 실행\n",
    "    pass\n",
    "else:\n",
    "    # if, elif가 모두 거짓일 때 실행\n",
    "    pass"
   ]
  },
  {
   "cell_type": "markdown",
   "id": "6ba29e1b",
   "metadata": {},
   "source": [
    "### 예시\n",
    "아래와 같이 간단한 예시를 작성해 봅시다."
   ]
  },
  {
   "cell_type": "code",
   "execution_count": null,
   "id": "348c0ea9",
   "metadata": {},
   "outputs": [],
   "source": [
    "x = 5\n",
    "\n",
    "if x > 0:\n",
    "    print(\"x는 양수입니다.\")\n",
    "elif x == 0:\n",
    "    print(\"x는 0입니다.\")\n",
    "else:\n",
    "    print(\"x는 음수입니다.\")"
   ]
  },
  {
   "cell_type": "markdown",
   "id": "e0505536",
   "metadata": {},
   "source": [
    "- **주의:** `if`문 뒤에는 반드시 콜론(`:`)을 붙이고, 다음 줄부터는 **들여쓰기**를 통해 범위를 구분해야 합니다."
   ]
  },
  {
   "cell_type": "markdown",
   "id": "2ee2a111",
   "metadata": {},
   "source": [
    "## 3. 비교 연산과 논리 연산\n",
    "\n",
    "### 3-1. 비교 연산자\n",
    "- `>` (크다), `<` (작다)\n",
    "- `>=` (크거나 같다), `<=` (작거나 같다)\n",
    "- `==` (같다), `!=` (같지 않다)\n",
    "\n",
    "### 3-2. 논리 연산자\n",
    "- `and`: A와 B가 모두 참\n",
    "- `or`: A 혹은 B 중 하나라도 참\n",
    "- `not`: 참을 거짓으로, 거짓을 참으로 반전"
   ]
  },
  {
   "cell_type": "code",
   "execution_count": 5,
   "id": "538e9ea3",
   "metadata": {},
   "outputs": [],
   "source": [
    "A = 1\n",
    "B = 2\n",
    "if not A:\n",
    "    print(1111)\n",
    "    pass"
   ]
  },
  {
   "cell_type": "code",
   "execution_count": 6,
   "id": "5572a791",
   "metadata": {},
   "outputs": [
    {
     "name": "stdout",
     "output_type": "stream",
     "text": [
      "a > b: False\n",
      "a >= b: True\n",
      "b < c < d: True\n",
      "not a >= b: False\n",
      "(a >= b) and (b < c): True\n",
      "(a >= b) or (b < c): True\n"
     ]
    }
   ],
   "source": [
    "a, b, c, d = 1, 1, 2, 3\n",
    "\n",
    "print(\"a > b:\", a > b)\n",
    "print(\"a >= b:\", a >= b)\n",
    "print(\"b < c < d:\", b < c < d)  # 연속 비교\n",
    "print(\"not a >= b:\", not a >= b)\n",
    "\n",
    "print(\"(a >= b) and (b < c):\", (a >= b) and (b < c))\n",
    "print(\"(a >= b) or (b < c):\", (a >= b) or (b < c))"
   ]
  },
  {
   "cell_type": "markdown",
   "id": "38e23232",
   "metadata": {},
   "source": [
    "### 드모르간의 법칙 (De Morgan's Law)\n",
    "\n",
    "논리식의 부정을 간편하게 나타낼 때 사용하는 법칙:\n",
    "1. `not (A and B)` 는 `(not A) or (not B)`와 동일하다.\n",
    "2. `not (A or B)` 는 `(not A) and (not B)`와 동일하다.\n",
    "\n",
    "이 법칙을 이용하면 복잡한 논리식을 간단히 표현할 수 있습니다."
   ]
  },
  {
   "cell_type": "code",
   "execution_count": 8,
   "id": "39e1e3f8",
   "metadata": {},
   "outputs": [
    {
     "name": "stdout",
     "output_type": "stream",
     "text": [
      "not (A and B) == (not A or not B): True\n",
      "not (A or B) == (not A and not B): True\n"
     ]
    }
   ],
   "source": [
    "A = True\n",
    "B = False\n",
    "\n",
    "print(\"not (A and B) == (not A or not B):\", not (A and B) == ((not A) or (not B)))\n",
    "print(\"not (A or B) == (not A and not B):\", not (A or B) == (not A and not B))"
   ]
  },
  {
   "cell_type": "markdown",
   "id": "0df980bb",
   "metadata": {},
   "source": [
    "## 4. 2진수 비트에 대한 설명\n",
    "\n",
    "정수형 데이터는 컴퓨터 내부에서 **이진수(Binary)** 형태로 저장됩니다. 예를 들어, 10진수 `13`은 이진수로 `1101`이며, 이를 **비트(bit)의 집합**으로 볼 수 있습니다.\n",
    "\n",
    "- 2진수 표기: 보통 파이썬에서 `bin(13)` → `'0b1101'`\n",
    "- 각 자리(bit)에서 `1`은 켜짐, `0`은 꺼짐 상태를 의미\n",
    "\n",
    "**비트 연산**이란, 이진수 상태에서 각 비트를 AND, OR, XOR 등으로 연산하는 것을 말합니다. \n",
    "이러한 연산은 하드웨어 가까운 레벨에서 빠르게 동작하기 때문에, 다양한 최적화와 저수준 프로그래밍에 사용됩니다."
   ]
  },
  {
   "cell_type": "markdown",
   "id": "13c0fcfe",
   "metadata": {},
   "source": [
    "### 4-1. 비트 논리 연산자\n",
    "- `&` (AND): 두 비트가 모두 1이면 결과 1\n",
    "- `|` (OR): 두 비트 중 하나라도 1이면 결과 1\n",
    "- `^` (XOR): 두 비트가 서로 다를 때 1\n",
    "- `~` (NOT): 비트를 반전 (0→1, 1→0)"
   ]
  },
  {
   "cell_type": "code",
   "execution_count": 9,
   "id": "5a4089f2",
   "metadata": {},
   "outputs": [
    {
     "name": "stdout",
     "output_type": "stream",
     "text": [
      "num1: 13 0b1101\n",
      "num2: 11 0b1011\n",
      "\n",
      "AND (&): 9 0b1001\n",
      "OR  (|): 15 0b1111\n",
      "XOR (^): 6 0b110\n"
     ]
    }
   ],
   "source": [
    "num1 = 13  # (2진수: 0b1101)\n",
    "num2 = 11  # (2진수: 0b1011)\n",
    "\n",
    "print(\"num1:\", num1, bin(num1))\n",
    "print(\"num2:\", num2, bin(num2))\n",
    "\n",
    "print(\"\\nAND (&):\", num1 & num2, bin(num1 & num2))\n",
    "print(\"OR  (|):\", num1 | num2, bin(num1 | num2))\n",
    "print(\"XOR (^):\", num1 ^ num2, bin(num1 ^ num2))\n",
    "\n",
    "# 참조:\n",
    "# 13(0b1101) & 11(0b1011) = 0b1001 (9)\n",
    "# 13(0b1101) | 11(0b1011) = 0b1111 (15)\n",
    "# 13(0b1101) ^ 11(0b1011) = 0b0110 (6)"
   ]
  },
  {
   "cell_type": "markdown",
   "id": "a553d170",
   "metadata": {},
   "source": [
    "### 4-2. 비트 시프트 연산자\n",
    "- `<<`: 왼쪽 시프트(Left Shift) → 2의 배로 곱해진 효과\n",
    "- `>>`: 오른쪽 시프트(Right Shift) → 2로 나눈 효과 (정수 부분만)\n",
    "\n",
    "예: `13 << 1` 은 `13 * 2` = 26, `13 >> 1` 은 `13 // 2` = 6 (정수 나눗셈)\n",
    "아래 코드로 확인해봅시다."
   ]
  },
  {
   "cell_type": "code",
   "execution_count": 10,
   "id": "bdae12f2",
   "metadata": {},
   "outputs": [
    {
     "name": "stdout",
     "output_type": "stream",
     "text": [
      "num:  13 0b1101\n",
      "num << 1: 26 0b11010\n",
      "num >> 1: 6 0b110\n"
     ]
    }
   ],
   "source": [
    "num = 13\n",
    "print(\"num: \", num, bin(num))\n",
    "print(\"num << 1:\", num << 1, bin(num << 1))\n",
    "print(\"num >> 1:\", num >> 1, bin(num >> 1))\n"
   ]
  },
  {
   "cell_type": "markdown",
   "id": "1c6d0bdd",
   "metadata": {},
   "source": [
    "## 5. 삼항 연산자 (Ternary Operator)\n",
    "\n",
    "c/java 조건 ?참일 때 : 거짓일 때\n",
    "\n",
    "파이썬에는 아래와 같은 한 줄짜리 **삼항(조건) 연산자** 문법이 있습니다:\n",
    "\n",
    "```python\n",
    "result = \"양수\" if x > 0 else \"양수가 아님\"\n",
    "```\n",
    "조건이 참이면 `if`와 `else` 사이의 값을 결과로 하고, 조건이 거짓이면 `else` 뒤의 값을 결과로 합니다.\n",
    "\n",
    "### 예시\n",
    "```python\n",
    "x = -4\n",
    "result = \"x는 양수입니다.\" if x > 0 else \"x는 양수가 아닙니다.\"\n",
    "print(result)\n",
    "# 출력: x는 양수가 아닙니다.\n",
    "```"
   ]
  },
  {
   "cell_type": "code",
   "execution_count": 11,
   "id": "eefe0486",
   "metadata": {},
   "outputs": [
    {
     "data": {
      "text/plain": [
       "'x는 양수가 아닙니다.'"
      ]
     },
     "execution_count": 11,
     "metadata": {},
     "output_type": "execute_result"
    }
   ],
   "source": [
    "x = -4\n",
    "result = \"x는 양수입니다.\" if x > 0 else \"x는 양수가 아닙니다.\"\n",
    "result"
   ]
  },
  {
   "cell_type": "code",
   "execution_count": 12,
   "id": "5ea9d988",
   "metadata": {},
   "outputs": [
    {
     "name": "stdout",
     "output_type": "stream",
     "text": [
      "값이 None이 아님\n",
      "값이 None 임\n"
     ]
    }
   ],
   "source": [
    "def sample(value):\n",
    "    return \"값이 None이 아님\" if value is not None else \"값이 None 임\"\n",
    "\n",
    "print(sample(10))\n",
    "print(sample(None))"
   ]
  },
  {
   "cell_type": "markdown",
   "id": "8dacc750",
   "metadata": {},
   "source": [
    "## 6. `in` 연산자\n",
    "\n",
    "파이썬에서 `in`을 사용하면, 어떤 요소가 **시퀀스(리스트, 튜플, 문자열 등)에 포함되어 있는지**를 간단히 확인할 수 있습니다.\n",
    "\n",
    "```python\n",
    "my_list = [1, 2, 3, 4, 5]\n",
    "x = 3\n",
    "if x in my_list:\n",
    "    print(\"x는 my_list에 포함되어 있습니다.\")\n",
    "```\n",
    "### 예시 확인"
   ]
  },
  {
   "cell_type": "code",
   "execution_count": null,
   "id": "213ce336",
   "metadata": {},
   "outputs": [
    {
     "name": "stdout",
     "output_type": "stream",
     "text": [
      "x는 my_list에 없습니다.\n"
     ]
    }
   ],
   "source": [
    "x = 3\n",
    "my_list = [1, 2, 3, 4, 5]\n",
    "if x in my_list:\n",
    "    print(\"x는 my_list에 포함되어 있습니다.\")\n",
    "else:\n",
    "    print(\"x는 my_list에 없습니다.\")"
   ]
  },
  {
   "cell_type": "code",
   "execution_count": 20,
   "id": "282d6421",
   "metadata": {},
   "outputs": [],
   "source": [
    "# mystr = \" zabcdefg\"\n",
    "\n",
    "# if \"abz\" in mystr:\n",
    "#     print(11111)\n",
    "\n",
    "\n",
    "mydict = {\"가\" : 1, \"나\" : 2, \"다\" : 3}\n",
    "\n",
    "if 1 in mydict:\n",
    "    print(1111)\n",
    "\n"
   ]
  },
  {
   "cell_type": "code",
   "execution_count": 21,
   "id": "b9cebb11",
   "metadata": {},
   "outputs": [
    {
     "name": "stdout",
     "output_type": "stream",
     "text": [
      "리스트에 있다\n"
     ]
    }
   ],
   "source": [
    "my_list =  [2, 4, 6, 8, 10]\n",
    "x = 6\n",
    "\n",
    "# 1) x 가 my_list에 있으면, \"리스트에 있다\", 없으면 \"리스트에 없다\" 를 출력하도록 코드를 만들어보세요\n",
    "### 삼항연산자, in 연산자 \n",
    "\n",
    "result = \"리스트에 있다\" if x in my_list else \"리스트에 없다\"\n",
    "\n",
    "print(result)"
   ]
  },
  {
   "cell_type": "markdown",
   "id": "def766e1",
   "metadata": {},
   "source": [
    "---\n",
    "## 7. 예제 추가\n",
    "\n",
    "### 7-1. 숫자가 양수/음수/0인지 판별하기\n",
    "```python\n",
    "x = -10  # 다른 값으로 바꿔가며 테스트\n",
    "\n",
    "# if ~ elif ~ else를 활용하여,\n",
    "# 1) x가 0보다 큰 경우: \"x는 양수\"\n",
    "# 2) x가 0인 경우: \"x는 0\"\n",
    "# 3) 나머지 경우: \"x는 음수\"\n",
    "```"
   ]
  },
  {
   "cell_type": "code",
   "execution_count": 2,
   "id": "0b6bb06a",
   "metadata": {},
   "outputs": [
    {
     "name": "stdout",
     "output_type": "stream",
     "text": [
      "x는 음수\n"
     ]
    }
   ],
   "source": [
    "x = -10  # 다른 값으로 바꿔가며 테스트\n",
    "\n",
    "if x > 0:\n",
    "    print(\"x는 양수\")\n",
    "elif x == 0:\n",
    "    print(\"x는 0\")\n",
    "else:\n",
    "    print(\"x는 음수\")\n",
    "    x = -x # 절대값 활용"
   ]
  },
  {
   "cell_type": "markdown",
   "id": "80e11a5b",
   "metadata": {},
   "source": [
    "\n",
    "### 7-2. 주어진 수가 짝수인지 홀수인지 판별하기\n",
    "```python\n",
    "num = 15\n",
    "# if 문을 이용해, num % 2 == 0 이면 \"짝수\", 아니면 \"홀수\"\n",
    "```"
   ]
  },
  {
   "cell_type": "code",
   "execution_count": 3,
   "id": "9eae5e93",
   "metadata": {},
   "outputs": [
    {
     "name": "stdout",
     "output_type": "stream",
     "text": [
      "홀수\n",
      "2의 배수이면서 3의 배수\n"
     ]
    }
   ],
   "source": [
    "num = 15\n",
    "\n",
    "if num % 2 == 0:\n",
    "    print(\"짝수\")\n",
    "else:\n",
    "    print(\"홀수\")\n",
    "\n",
    "\n",
    "## 문항 변경\n",
    "if num % 2 == 0:\n",
    "    print(\"짝수\")\n",
    "elif num % 3 == 0:\n",
    "    print(\"2의 배수이면서 3의 배수\")\n",
    "else:\n",
    "    print(\"아님\")"
   ]
  },
  {
   "cell_type": "markdown",
   "id": "6c693a3c",
   "metadata": {},
   "source": [
    "\n",
    "### 7-3. 주어진 2가지 숫자 중 큰 수를 출력하기\n",
    "```python\n",
    "a = 30\n",
    "b = 20\n",
    "# 어떤 방식으로든 a와 b 중 큰 값을 출력해보세요.\n",
    "```"
   ]
  },
  {
   "cell_type": "code",
   "execution_count": null,
   "id": "620371b8",
   "metadata": {},
   "outputs": [],
   "source": [
    "a = 30\n",
    "b = 20\n",
    "\n",
    "if a > b:\n",
    "    print(a)\n",
    "    \n",
    "else:\n",
    "    print(b)\n",
    "\n",
    "print(a if a > b else b)"
   ]
  },
  {
   "cell_type": "code",
   "execution_count": 24,
   "id": "e5568621",
   "metadata": {},
   "outputs": [
    {
     "name": "stdout",
     "output_type": "stream",
     "text": [
      "1\n"
     ]
    }
   ],
   "source": [
    "print(max(a, b))"
   ]
  },
  {
   "cell_type": "markdown",
   "id": "1c3f7640",
   "metadata": {},
   "source": [
    "\n",
    "### 7-4. 4가지 숫자를 입력받아 가장 작은 수와 큰 수를 구하기\n",
    "```python\n",
    "nums = [6, 10, 2, 9]  # 예시\n",
    "# if 문 여러 번 사용, 혹은 다른 방법으로\n",
    "# min, max를 구해보세요.\n",
    "```\n",
    "아래처럼 `sorted`를 활용해도 되고, 직접 `if`만으로 구현해 볼 수도 있습니다.\n"
   ]
  },
  {
   "cell_type": "code",
   "execution_count": null,
   "id": "e1bb1ca3",
   "metadata": {},
   "outputs": [
    {
     "name": "stdout",
     "output_type": "stream",
     "text": [
      "가장 작은 값: 2\n",
      "가장 큰 값: 10\n"
     ]
    }
   ],
   "source": [
    "#기본 정답\n",
    "\n",
    "nums = [6, 10, 2, 9]\n",
    "\n",
    "min_val = nums[0]\n",
    "max_val = nums[0]\n",
    "\n",
    "for n in nums[1:]:\n",
    "    if n < min_val:\n",
    "        min_val = n\n",
    "    if n > max_val:\n",
    "        max_val = n\n",
    "\n",
    "print(\"가장 작은 값:\", min_val)\n",
    "print(\"가장 큰 값:\", max_val)"
   ]
  },
  {
   "cell_type": "code",
   "execution_count": 29,
   "id": "d90d335e",
   "metadata": {},
   "outputs": [
    {
     "name": "stdout",
     "output_type": "stream",
     "text": [
      " 작은값 2\n",
      " 큰값 10\n",
      " 큰값 2\n",
      " 작은값 10\n"
     ]
    }
   ],
   "source": [
    "print( \" 작은값\", min(nums))\n",
    "print( \" 큰값\", max(nums))\n",
    "\n",
    "sorted_answer = sorted(nums)\n",
    "print( \" 큰값\", sorted_answer[0])\n",
    "print( \" 작은값\", sorted_answer[-1])"
   ]
  },
  {
   "cell_type": "markdown",
   "id": "168e0e46",
   "metadata": {},
   "source": [
    "---\n",
    "## 8. 종합 예제: 숫자 맞추기 게임\n",
    "\n",
    "**요구 사항:**\n",
    "1. 프로그램은 1부터 100 사이의 임의의 숫자를 생성합니다.\n",
    "2. 사용자는 숫자를 맞출 때까지 계속해서 숫자를 입력합니다.\n",
    "3. 입력한 숫자가 생성된 숫자보다 크면 \"더 작은 숫자를 입력하세요.\"를 출력합니다.\n",
    "4. 입력한 숫자가 생성된 숫자보다 작으면 \"더 큰 숫자를 입력하세요.\"를 출력합니다.\n",
    "5. 사용자가 숫자를 맞추면 \"정답입니다!\"를 출력하고 게임을 종료합니다.\n",
    "\n",
    "예시:\n",
    "- 생성된 숫자: 42\n",
    "- 사용자가 50 입력 → \"더 작은 숫자를 입력하세요.\"\n",
    "- 사용자가 30 입력 → \"더 큰 숫자를 입력하세요.\"\n",
    "- 사용자가 42 입력 → \"정답입니다!\" → 종료\n"
   ]
  },
  {
   "cell_type": "code",
   "execution_count": null,
   "id": "ce0ae5d8",
   "metadata": {},
   "outputs": [],
   "source": [
    "import random\n",
    "\n",
    "target_number = random.randint(1, 100)  # 1~100 사이 랜덤\n",
    "\n",
    "while True:\n",
    "    guess = int(input(\"숫자를 입력하세요(1~100): \"))\n",
    "    if guess > target_number:\n",
    "        print(\"더 작은 숫자를 입력하세요.\")\n",
    "    elif guess < target_number:\n",
    "        print(\"더 큰 숫자를 입력하세요.\")\n",
    "    else:\n",
    "        print(\"정답입니다!\")\n",
    "        break"
   ]
  },
  {
   "cell_type": "markdown",
   "id": "5e14c098",
   "metadata": {},
   "source": [
    "**설명:**\n",
    "- `random.randint(1, 100)` 함수로 1부터 100 사이의 임의의 정수를 생성.\n",
    "- `while True:` 무한 루프를 돌면서, 사용자가 `guess`를 입력할 때마다 `if`를 통해 비교.\n",
    "- 맞추면 `break`로 탈출."
   ]
  },
  {
   "cell_type": "markdown",
   "id": "4e6a9648",
   "metadata": {},
   "source": [
    "# 9. 정리 & 마무리\n",
    "\n",
    "이상으로 **조건문**, **비교/논리 연산자**, **2진수 비트와 비트 연산자**, **삼항 연산자**, **in 연산자** 등을 살펴봤습니다.\n",
    "\n",
    "### 핵심 요약\n",
    "1. `if ~ elif ~ else` 구문으로 다양한 조건을 처리.\n",
    "2. 비교 연산(`>`, `>=`, `==`, `!=` 등)과 논리 연산(`and`, `or`, `not`)을 적절히 조합.\n",
    "3. 2진수 비트(0과 1) 단위로 정수를 다루는 **비트 연산자** (`&`, `|`, `^`, `<<`, `>>`)\n",
    "4. 한 줄로 조건 분기를 할 수 있는 **삼항 연산자**(`a if 조건 else b`)\n",
    "5. 리스트, 문자열 등에 어떤 요소가 들어있는지 확인할 수 있는 **`in`** 연산자\n",
    "\n",
    "**수고하셨습니다!**"
   ]
  }
 ],
 "metadata": {
  "kernelspec": {
   "display_name": "Python 3",
   "language": "python",
   "name": "python3"
  },
  "language_info": {
   "codemirror_mode": {
    "name": "ipython",
    "version": 3
   },
   "file_extension": ".py",
   "mimetype": "text/x-python",
   "name": "python",
   "nbconvert_exporter": "python",
   "pygments_lexer": "ipython3",
   "version": "3.12.8"
  },
  "name": "if_and_bitwise_operators_extended"
 },
 "nbformat": 4,
 "nbformat_minor": 5
}
