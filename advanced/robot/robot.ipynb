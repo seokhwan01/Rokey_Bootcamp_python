{
 "cells": [
  {
   "cell_type": "code",
   "execution_count": 1,
   "metadata": {},
   "outputs": [],
   "source": [
    "from enum import Enum\n",
    "\n",
    "class RobotStatus(Enum):\n",
    "    IDLE = \"Idle\" #대기 상태\n",
    "    WORKING = \"Working\" #일 중\n",
    "    CHARGING = \"Charging\" #충전 중\n",
    "    MALFUNCTION=\"Malfunction\" #고장\n",
    "    LOW_BATTERY=\"Low_Battery\" #배터리 10% 이하일 때는 배터리 부족 상태\n",
    "    \n",
    "class LeggedRobotStatus(Enum):\n",
    "    SIT = \"Sitting down\"\n",
    "    STAND_UP = \"Standing up and balancing\"\n"
   ]
  },
  {
   "cell_type": "code",
   "execution_count": 12,
   "metadata": {},
   "outputs": [],
   "source": [
    "class Robot:\n",
    "    ALLOWED_STATUSES = {RobotStatus.IDLE,RobotStatus.WORKING} #기본 허용 상태\n",
    "    \n",
    "    def __init__(self,robot_id:str, name : str, model : str):\n",
    "        self.robot_id = robot_id\n",
    "        self.name=name\n",
    "        self.model=model\n",
    "        self.status=RobotStatus.IDLE\n",
    "    \n",
    "    def set_status(self,new_status:RobotStatus) -> None:\n",
    "        if new_status not in self.ALLOWED_STATUSES:\n",
    "            print(f'\"[ERROR] {new_status} is not valid status for {self.__class__.__name__}')\n",
    "            #self.__class__.__name__를 사용하면 상속된 클래스에서도 올바른 클래스 이름 반환 가능\n",
    "        self.status=new_status\n",
    "        print(f\"{self.name} status changed to {self.status.value}\")\n",
    "    \n",
    "    def operate(self) -> None:\n",
    "        \"\"\"기본 로봇은 수행 작업 X\"\"\"\n",
    "        print(f\"{self.name} has no specific operation\")\n",
    "        \n",
    "    def get_info(self)->str:\n",
    "        return f\"Robot<{self.robot_id}> [{self.name}] (Model = {self.model}) , Status={self.status.value}\"\n",
    "        "
   ]
  },
  {
   "cell_type": "code",
   "execution_count": 16,
   "metadata": {},
   "outputs": [
    {
     "name": "stdout",
     "output_type": "stream",
     "text": [
      "KAI status changed to Working\n",
      "KAI has no specific operation\n",
      "Robot<AB-123> [KAI] (Model = car) , Status=Working\n"
     ]
    }
   ],
   "source": [
    "r1=Robot(\"AB-123\",\"KAI\",\"car\")\n",
    "r1.set_status(RobotStatus.WORKING)\n",
    "r1.operate()\n",
    "print(r1.get_info())"
   ]
  },
  {
   "cell_type": "code",
   "execution_count": 17,
   "metadata": {},
   "outputs": [],
   "source": [
    "# 조작 가능한 로봇 (ManipulatorRobot)\n",
    "class ManipulatorRobot(Robot):\n",
    "    ALLOWED_STATUSES = {RobotStatus.IDLE, RobotStatus.WORKING}  # CHARGING 제외\n",
    "    \n",
    "    def __init__(self, robot_id : str, name : str, model : str):\n",
    "        super().__init__(robot_id, name, model)\n",
    "        self.power_on = False\n",
    "    \n",
    "    def power_up(self)->None:\n",
    "        self.power_on=True\n",
    "        print(f\"{self.name} power ON.\")\n",
    "    \n",
    "    def power_down(self)->None:\n",
    "        self.power_on=False\n",
    "        print(f\"{self.name} power OFF.\")\n",
    "    \n",
    "    def operate(self):\n",
    "        if self.power_on:\n",
    "            print(f\"{self.name} is assembling components\")\n",
    "        else:\n",
    "            print(f\"[ERROR] {self.name} is OFF.\")\n",
    "    def get_info(self):\n",
    "        return f\"{super().get_info()}, PowerOn={self.power_on} \""
   ]
  },
  {
   "cell_type": "code",
   "execution_count": 19,
   "metadata": {},
   "outputs": [
    {
     "name": "stdout",
     "output_type": "stream",
     "text": [
      "KAI power ON.\n",
      "Robot<AB-123> [KAI] (Model = H1) , Status=Idle, PowerOn=True \n"
     ]
    }
   ],
   "source": [
    "r2=ManipulatorRobot(\"AB-123\",\"KAI\",\"H1\")\n",
    "r2.power_up()\n",
    "print(r2.get_info())\n"
   ]
  }
 ],
 "metadata": {
  "kernelspec": {
   "display_name": "Python 3",
   "language": "python",
   "name": "python3"
  },
  "language_info": {
   "codemirror_mode": {
    "name": "ipython",
    "version": 3
   },
   "file_extension": ".py",
   "mimetype": "text/x-python",
   "name": "python",
   "nbconvert_exporter": "python",
   "pygments_lexer": "ipython3",
   "version": "3.12.8"
  }
 },
 "nbformat": 4,
 "nbformat_minor": 2
}
