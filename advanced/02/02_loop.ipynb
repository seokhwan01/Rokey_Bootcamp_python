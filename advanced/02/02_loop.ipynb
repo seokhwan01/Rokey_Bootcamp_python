{
 "cells": [
  {
   "cell_type": "markdown",
   "metadata": {},
   "source": [
    "# 반복문\n",
    "\n",
    "반복문은 프로그래밍에서 어떤 작업을 여러 번 반복해서 수행할 수 있게 해주는 중요한 도구다. 마치 우리가 동일한 작업을 여러 번 해야 할 때, 일일이 반복하는 대신 \"이 작업을 몇 번 반복하라\"고 지시하는 것과 같다. 이렇게 하면 시간도 절약되고, 코드도 훨씬 간결해진다.\n",
    "\n",
    "예를 들어, 1부터 5까지의 숫자를 출력하고 싶다고 가정해보자. 일반적으로는 이렇게 코드를 작성할 수 있다:\n",
    "\n",
    "```python\n",
    "print(1)\n",
    "print(2)\n",
    "print(3)\n",
    "print(4)\n",
    "print(5)\n",
    "\n",
    "```\n",
    "\n",
    "하지만 만약 1부터 100까지의 숫자를 출력해야 한다면, 일일이 숫자를 하나씩 적어넣는 것은 매우 번거로울 것이다. 이럴 때 반복문을 사용하면 훨씬 효율적으로 작업을 수행할 수 있다.\n",
    "\n",
    "```python\n",
    "for i in range(1, 6):\n",
    "    print(i)\n",
    "```\n"
   ]
  },
  {
   "cell_type": "markdown",
   "metadata": {},
   "source": [
    "## 'for' 반복문\n",
    "\n",
    "**기본구조**\n",
    "\n",
    "```python\n",
    "for 변수 in 시퀀스:\n",
    "    실행할 코드\n",
    "```\n",
    "\n",
    "**변수**: 시퀀스의 각 요소를 순차적으로 받아오는 변수.\n",
    "\n",
    "**시퀀스**: 리스트, 튜플, 문자열, range() 등 순서가 있는 데이터.\n"
   ]
  },
  {
   "cell_type": "code",
   "execution_count": 1,
   "metadata": {},
   "outputs": [
    {
     "name": "stdout",
     "output_type": "stream",
     "text": [
      "1\n",
      "2\n",
      "3\n",
      "4\n",
      "5\n"
     ]
    }
   ],
   "source": [
    "# 예제\n",
    "for i in range(1, 6):\n",
    "    print(i)\n",
    "\n",
    "# c.f. range(1, 6)은 1부터 5까지의 범위를 나타냅니다. 6은 포함되지 않습니다.\n",
    "# range(시작, 끝) 형식으로 사용하면 시작부터 끝-1까지의 범위를 나타냅니다.\n",
    "# range(끝) 형식으로 사용하면 0부터 끝-1까지의 범위를 나타냅니다."
   ]
  },
  {
   "cell_type": "code",
   "execution_count": 3,
   "metadata": {},
   "outputs": [
    {
     "name": "stdout",
     "output_type": "stream",
     "text": [
      "range(5):\t [0, 1, 2, 3, 4]\n",
      "range(1, 6):\t [1, 2, 3, 4, 5]\n",
      "range(1, 10, 2):\t [1, 3, 5, 7, 9]\n",
      "range(10, 1, -2):\t [10, 8, 6, 4, 2]\n"
     ]
    }
   ],
   "source": [
    "print(\"range(5):\\t\", list(range(5)))\n",
    "print(\"range(1, 6):\\t\", list(range(1, 6)))\n",
    "print(\"range(1, 10, 2):\\t\", list(range(1, 10, 2)))\n",
    "print(\"range(10, 1, -2):\\t\", list(range(10, 1, -2)))"
   ]
  },
  {
   "cell_type": "code",
   "execution_count": 3,
   "metadata": {},
   "outputs": [
    {
     "name": "stdout",
     "output_type": "stream",
     "text": [
      "1\n",
      "2\n",
      "3\n",
      "4\n",
      "5\n"
     ]
    }
   ],
   "source": [
    "my_list = [1, 2, 3, 4, 5]\n",
    "for d in my_list:\n",
    "    print(d)"
   ]
  },
  {
   "cell_type": "code",
   "execution_count": 6,
   "metadata": {},
   "outputs": [
    {
     "name": "stdout",
     "output_type": "stream",
     "text": [
      "[1, 2, 3, 4, 5]\n"
     ]
    }
   ],
   "source": [
    "my_list = [1, 2, 3, 4, 5]\n",
    "for d in my_list:\n",
    "    d += 1\n",
    "  \n",
    "print(my_list)"
   ]
  },
  {
   "cell_type": "code",
   "execution_count": 8,
   "metadata": {},
   "outputs": [
    {
     "name": "stdout",
     "output_type": "stream",
     "text": [
      "마\n",
      "가\n",
      "나\n",
      "다\n",
      "라\n"
     ]
    }
   ],
   "source": [
    "my_list = [\"마\",\"가\", \"나\", \"다\", \"라\"]\n",
    "for i in range(len(my_list)):\n",
    "    print(my_list[i])"
   ]
  },
  {
   "cell_type": "markdown",
   "metadata": {},
   "source": [
    "### Dictionary 순회\n"
   ]
  },
  {
   "cell_type": "code",
   "execution_count": 10,
   "metadata": {},
   "outputs": [
    {
     "name": "stdout",
     "output_type": "stream",
     "text": [
      "철수: 85\n",
      "영희: 92\n",
      "민수: 78\n"
     ]
    }
   ],
   "source": [
    "grades = {\"철수\": 85, \"영희\": 92, \"민수\": 78}\n",
    "\n",
    "for name, score in grades.items():\n",
    "    print(f\"{name}: {score}\")\n",
    "\n",
    "#.item 하지 않으면 key 순회됩니다\n",
    "# (key, value) 쌍을 튜플 형태로 받아올 수 잇다"
   ]
  },
  {
   "cell_type": "markdown",
   "metadata": {},
   "source": [
    "### for문을 이용한 list comprehension\n"
   ]
  },
  {
   "cell_type": "code",
   "execution_count": 13,
   "metadata": {},
   "outputs": [
    {
     "name": "stdout",
     "output_type": "stream",
     "text": [
      "[0, 2, 4, 6, 8]\n"
     ]
    }
   ],
   "source": [
    "# my_list = [i for i in range(10)]\n",
    "my_list = [i for i in range(10) if i % 2 == 0]\n",
    "print(my_list)"
   ]
  },
  {
   "cell_type": "markdown",
   "metadata": {},
   "source": [
    "### zip\n",
    "\n",
    "`zip` 함수는 여러 iterable 객체(리스트, 튜플 등)를 묶어서 동시에 순회할 수 있게 해주는 도구이다.\n",
    "\n",
    "아래는 for문과 zip을 이해하기 예제이다.\n"
   ]
  },
  {
   "cell_type": "code",
   "execution_count": 1,
   "metadata": {},
   "outputs": [
    {
     "name": "stdout",
     "output_type": "stream",
     "text": [
      "철수의 점수는 85점입니다.\n",
      "영희의 점수는 92점입니다.\n",
      "민수의 점수는 78점입니다.\n",
      "지영의 점수는 90점입니다.\n"
     ]
    }
   ],
   "source": [
    "students = [\"철수\", \"영희\", \"민수\", \"지영\"]\n",
    "\n",
    "# 학생 점수 리스트\n",
    "scores = [85, 92, 78, 90]\n",
    "\n",
    "# zip을 사용하여 이름과 점수를 묶어서 출력하기\n",
    "for name, score in zip(students, scores):\n",
    "    print(f\"{name}의 점수는 {score}점입니다.\")\n"
   ]
  },
  {
   "cell_type": "markdown",
   "metadata": {},
   "source": [
    "**주의점, 참고사항**\n",
    "\n",
    "- zip은 길이가 다른 리스트를 입력받으면 짧은 쪽에 맞춰 순회를 멈춥니다.\n"
   ]
  },
  {
   "cell_type": "code",
   "execution_count": 2,
   "metadata": {},
   "outputs": [
    {
     "name": "stdout",
     "output_type": "stream",
     "text": [
      "1 4\n",
      "2 5\n"
     ]
    }
   ],
   "source": [
    "# 길이가 다른 리스트\n",
    "list1 = [1, 2, 3]\n",
    "list2 = [4, 5]\n",
    "\n",
    "# zip 동작 확인\n",
    "for a, b in zip(list1, list2):\n",
    "    print(a, b)\n"
   ]
  },
  {
   "cell_type": "markdown",
   "metadata": {},
   "source": [
    "# list comprehesion, zip 활용예제\n",
    "\n",
    "[1,2,3]\n",
    "[2,4,6,8]"
   ]
  },
  {
   "cell_type": "code",
   "execution_count": 16,
   "metadata": {},
   "outputs": [
    {
     "name": "stdout",
     "output_type": "stream",
     "text": [
      "[3, 6, 9]\n"
     ]
    }
   ],
   "source": [
    "list1 = [1,2,3]\n",
    "list2 = [2,4,6,8]\n",
    "\n",
    "sum_list = [ a+b for a, b in zip(list1,list2)]\n",
    "print(sum_list)"
   ]
  },
  {
   "cell_type": "code",
   "execution_count": 17,
   "metadata": {},
   "outputs": [
    {
     "name": "stdout",
     "output_type": "stream",
     "text": [
      "[2, 4]\n"
     ]
    }
   ],
   "source": [
    "nums= [1,2,3,4,5]\n",
    "\n",
    "even_nums = [x for x in nums if x%2 ==0]\n",
    "print(even_nums)"
   ]
  },
  {
   "cell_type": "markdown",
   "metadata": {},
   "source": []
  },
  {
   "cell_type": "markdown",
   "metadata": {},
   "source": [
    "## While문\n",
    "\n",
    "**기본구조**\n",
    "\n",
    "```python\n",
    "while 조건문:\n",
    "    수행할_문장1\n",
    "    수행할_문장2\n",
    "    수행할_문장3\n",
    "    ...\n",
    "```\n",
    "\n",
    "while 문은 조건문이 참인 동안 while 문에 속한 문장들이 반복해서 수행된다.\n",
    "\n",
    "'열 번 찍어 안 넘어가는 나무 없다'라는 속담을 파이썬 프로그램으로 만들면 다음과 같다.\n"
   ]
  },
  {
   "cell_type": "code",
   "execution_count": 5,
   "metadata": {},
   "outputs": [
    {
     "name": "stdout",
     "output_type": "stream",
     "text": [
      "나무를 1번 찍었습니다.\n",
      "나무를 2번 찍었습니다.\n",
      "나무를 3번 찍었습니다.\n",
      "나무를 4번 찍었습니다.\n",
      "나무를 5번 찍었습니다.\n",
      "나무를 6번 찍었습니다.\n",
      "나무를 7번 찍었습니다.\n",
      "나무를 8번 찍었습니다.\n",
      "나무를 9번 찍었습니다.\n",
      "나무를 10번 찍었습니다.\n",
      "나무 넘어갑니다.\n"
     ]
    }
   ],
   "source": [
    "treeHit = 0\n",
    "while treeHit < 10:\n",
    "    treeHit = treeHit + 1\n",
    "    print(\"나무를 %d번 찍었습니다.\" % treeHit)\n",
    "    if treeHit == 10:\n",
    "        print(\"나무 넘어갑니다.\")"
   ]
  },
  {
   "cell_type": "markdown",
   "metadata": {},
   "source": [
    "### While문의 사용 사례\n",
    "\n",
    "`for`문 말고 `while`문을 사용하는것이 유리한 경우가 몇가지 있다. 아래에 `while`문을 사용해야 할 몇 가지 대표적인 경우를 설명하겠다.\n"
   ]
  },
  {
   "cell_type": "markdown",
   "metadata": {},
   "source": [
    "1. **반복 횟수가 정해져 있지 않은 경우**\n",
    "\n",
    "   `while` 문은 특정 조건이 참인 동안 계속해서 반복된다. 따라서, 반복을 언제 멈춰야 할지 사전에 알 수 없는 경우에 적합하다. 예를 들어, 사용자가 특정 키를 누를 때까지 프로그램이 계속 동작해야 하는 경우가 이에 해당한다.\n",
    "\n",
    "   아래 코드에서는 사용자가 \"exit\"라는 명령어를 입력할 때까지 계속해서 사용자 입력을 받는다. 여기서는 반복 횟수를 사전에 알 수 없기 때문에 while 문이 적합하다.\n"
   ]
  },
  {
   "cell_type": "code",
   "execution_count": 18,
   "metadata": {},
   "outputs": [
    {
     "name": "stdout",
     "output_type": "stream",
     "text": [
      "입력한 명령어: ad\n",
      "입력한 명령어: ef\n",
      "입력한 명령어: e\n",
      "입력한 명령어: e\n",
      "입력한 명령어: e\n",
      "입력한 명령어: exit\n"
     ]
    }
   ],
   "source": [
    "import sys\n",
    "\n",
    "user_input = \"\"\n",
    "while user_input != \"exit\":\n",
    "    sys.stdout.flush()  # 출력 버퍼를 비웁니다. (이 부분은 딱히 신경쓰지 않아도 됩니다).\n",
    "\n",
    "    user_input = input(\"명령어를 입력하세요 ('exit' 입력 시 종료): \")\n",
    "    print(f\"입력한 명령어: {user_input}\")"
   ]
  },
  {
   "cell_type": "markdown",
   "metadata": {},
   "source": [
    "2. **조건이 실행 중에 변하는 경우**\n",
    "\n",
    "   `while` 문은 반복 조건이 동적으로 변화할 때 유용하다. 예를 들어, 반복 중에 특정 조건이 변화하면서 반복을 종료해야 하는 경우가 있다.\n",
    "\n",
    "   아래 코드에서는 사용자가 잔액이 남아 있는 동안 계속해서 출금을 요청할 수 있다. balance가 0이 되면 반복이 자동으로 종료됩니다. 이 경우에도 반복 횟수를 미리 알 수 없으므로 while 문이 적합하다.\n"
   ]
  },
  {
   "cell_type": "code",
   "execution_count": 19,
   "metadata": {},
   "outputs": [
    {
     "name": "stdout",
     "output_type": "stream",
     "text": [
      "남은 잔액: 701\n",
      "남은 잔액: 673\n",
      "남은 잔액: 185\n",
      "남은 잔액: 0\n"
     ]
    }
   ],
   "source": [
    "balance = 1000  # 초기 잔액\n",
    "withdrawal = 0\n",
    "while balance > 0:\n",
    "    sys.stdout.flush()  # 출력 버퍼를 비웁니다. (이 부분은 딱히 신경쓰지 않아도 됩니다).\n",
    "\n",
    "    withdrawal = int(input(\"출금할 금액을 입력하세요: \"))\n",
    "    if withdrawal > balance:\n",
    "        print(\"잔액이 부족합니다.\")\n",
    "    else:\n",
    "        balance -= withdrawal\n",
    "        print(f\"남은 잔액: {balance}\")"
   ]
  },
  {
   "cell_type": "markdown",
   "metadata": {},
   "source": [
    "3. **상태 기반 반복이 필요한 경우**\n",
    "\n",
    "   어떤 작업을 수행하는 중에 상태를 지속적으로 확인하면서 특정 상태에서만 반복을 멈춰야 하는 경우, while 문이 유용하다. 예를 들어, 센서 데이터를 읽어오거나, 특정 조건이 만족될 때까지 작업을 계속해야 하는 경우가 이에 해당한다.\n",
    "\n",
    "   아래 코드에서는 `random_number`가 10이상일 때까지 계속 반복문을 도는 코드이다.\n"
   ]
  },
  {
   "cell_type": "code",
   "execution_count": 22,
   "metadata": {},
   "outputs": [
    {
     "name": "stdout",
     "output_type": "stream",
     "text": [
      "현재 값: 5, 계속 진행합니다.\n",
      "현재 값: 7, 계속 진행합니다.\n",
      "현재 값: 4, 계속 진행합니다.\n",
      "현재 값: 4, 계속 진행합니다.\n",
      "현재 값: 6, 계속 진행합니다.\n",
      "현재 값: 3, 계속 진행합니다.\n",
      "random_number가 10 이상입니다.\n"
     ]
    }
   ],
   "source": [
    "import random\n",
    "\n",
    "random_number = random.randint(1, 12)  # 1부터 12까지의 랜덤한 숫자\n",
    "while random_number < 10:\n",
    "    print(f\"현재 값: {random_number}, 계속 진행합니다.\")\n",
    "    random_number = random.randint(1, 12)\n",
    "\n",
    "print(\"random_number가 10 이상입니다.\")"
   ]
  },
  {
   "cell_type": "code",
   "execution_count": 23,
   "metadata": {},
   "outputs": [
    {
     "name": "stdout",
     "output_type": "stream",
     "text": [
      "1\n",
      "2\n",
      "4\n",
      "====================================================================================================\n",
      "1\n",
      "2\n",
      "3\n",
      "4\n",
      "5\n"
     ]
    }
   ],
   "source": [
    "my_list = [1, 2, 3, 4, 5]\n",
    "\n",
    "idx = 0\n",
    "while idx < len(my_list):\n",
    "    print(my_list[idx])\n",
    "    idx += 1\n",
    "    if idx % 2 == 0:\n",
    "        idx += 1\n",
    "\n",
    "print(\"=\" * 100)\n",
    "\n",
    "for i in range(len(my_list)):\n",
    "    print(my_list[i])\n",
    "    if i % 2 == 0:\n",
    "        i += 1"
   ]
  },
  {
   "cell_type": "markdown",
   "metadata": {},
   "source": [
    "## break문\n",
    "\n",
    "`break`문은 프로그래밍에서 반복문을 즉시 종료하는 데 사용되는 제어 흐름 문이다. 주로 `while`, `for`와 같은 반복문 내부에서 사용되며, 특정 조건이 충족될 때 반복문을 중단하고 반복문 바로 다음에 있는 코드로 실행을 넘어가도록 한다.\n"
   ]
  },
  {
   "cell_type": "code",
   "execution_count": 24,
   "metadata": {},
   "outputs": [
    {
     "name": "stdout",
     "output_type": "stream",
     "text": [
      "0\n",
      "1\n",
      "2\n",
      "3\n",
      "4\n"
     ]
    }
   ],
   "source": [
    "for i in range(10):\n",
    "    if i == 5:\n",
    "        break\n",
    "    print(i)"
   ]
  },
  {
   "cell_type": "code",
   "execution_count": 25,
   "metadata": {},
   "outputs": [
    {
     "name": "stdout",
     "output_type": "stream",
     "text": [
      "0\n",
      "1\n",
      "2\n",
      "3\n",
      "4\n",
      "5\n"
     ]
    }
   ],
   "source": [
    "i = 0\n",
    "while i < 10:\n",
    "    print(i)\n",
    "    if i == 5:\n",
    "        break\n",
    "    i += 1"
   ]
  },
  {
   "cell_type": "markdown",
   "metadata": {},
   "source": [
    "### break문과 조건문\n",
    "\n",
    "가독성 문제가 있으므로 많이 사용하지는 않는 기능\n"
   ]
  },
  {
   "cell_type": "code",
   "execution_count": 27,
   "metadata": {},
   "outputs": [],
   "source": [
    "for i in range(10):\n",
    "    if i == 5:\n",
    "        break\n",
    "else:\n",
    "    print(\"Hello\")"
   ]
  },
  {
   "cell_type": "code",
   "execution_count": 26,
   "metadata": {},
   "outputs": [
    {
     "name": "stdout",
     "output_type": "stream",
     "text": [
      "Hello\n"
     ]
    }
   ],
   "source": [
    "for i in range(10):\n",
    "    if i == 15:\n",
    "        break\n",
    "else:\n",
    "    print(\"Hello\")"
   ]
  },
  {
   "cell_type": "markdown",
   "metadata": {},
   "source": [
    "## 예제\n"
   ]
  },
  {
   "cell_type": "markdown",
   "metadata": {},
   "source": [
    "### 1. 1부터 10까지 한줄로 출력하라.\n",
    "\n",
    "tip: print(i, end=' ')를 이용하자.\n"
   ]
  },
  {
   "cell_type": "code",
   "execution_count": 29,
   "metadata": {},
   "outputs": [
    {
     "name": "stdout",
     "output_type": "stream",
     "text": [
      "1 2 3 4 5 6 7 8 9 10 "
     ]
    }
   ],
   "source": [
    "for i in range(1, 11):\n",
    "    print(i, end = ' ')"
   ]
  },
  {
   "cell_type": "markdown",
   "metadata": {},
   "source": [
    "### 2.아래와 같이 (4, 10)크기를 갖는 \\*을 찍어라.\n",
    "\n",
    "```\n",
    "**********\n",
    "**********\n",
    "**********\n",
    "**********\n",
    "```\n"
   ]
  },
  {
   "cell_type": "code",
   "execution_count": 30,
   "metadata": {},
   "outputs": [
    {
     "name": "stdout",
     "output_type": "stream",
     "text": [
      "**********\n",
      "**********\n",
      "**********\n",
      "**********\n"
     ]
    }
   ],
   "source": [
    "for i in range(4):\n",
    "    for j in range(10):\n",
    "        print(\"*\", end =\"\")\n",
    "    print()"
   ]
  },
  {
   "cell_type": "markdown",
   "metadata": {},
   "source": [
    "### 3. 아래와 같이 아래로 내려갈수록 한칸씩 증가하도록 별을 찍어라.\n"
   ]
  },
  {
   "cell_type": "code",
   "execution_count": 33,
   "metadata": {},
   "outputs": [
    {
     "name": "stdout",
     "output_type": "stream",
     "text": [
      "*\n",
      "**\n",
      "***\n",
      "****\n",
      "*****\n"
     ]
    }
   ],
   "source": [
    "# 아래와 같은 숫자 피라미드와 별표로 구성된 피라미드를 만들어라. 단, 숫자는 1부터 시작하며, 한 줄마다 하나씩 증가한다. \n",
    "# ####### 피라미드의 크기 n은 사용자로부터 입력받는다.\n",
    "# 1\n",
    "# 1 2\n",
    "# 1 2 3\n",
    "# 1 2 3 4\n",
    "# ...\n",
    "# 1 2 3 4 ... n\n",
    "\n",
    "# *\n",
    "# **\n",
    "# ***\n",
    "# ****\n",
    "# ...\n",
    "# **** ... *\n",
    "n = int(input(\"입력하시오\"))\n",
    "\n",
    "for i in range(n):\n",
    "    for j in range(i+1):\n",
    "        print(\"*\", end=\"\")\n",
    "    print()\n",
    "\n",
    "# for i in range(n):\n",
    "#     for j in range(i+1):\n",
    "#         print(j+1, end=\"\")\n",
    "#     print()"
   ]
  },
  {
   "cell_type": "markdown",
   "metadata": {},
   "source": [
    "### 4. 아래와 층이 내려갈 수록 별이 하나씩 줄어드는 방식으로 별을 찍어라.\n",
    "\n",
    "```\n",
    "******\n",
    "*****\n",
    "****\n",
    "***\n",
    "**\n",
    "*\n",
    "```\n"
   ]
  },
  {
   "cell_type": "code",
   "execution_count": 41,
   "metadata": {},
   "outputs": [
    {
     "name": "stdout",
     "output_type": "stream",
     "text": [
      "******\n",
      "*****\n",
      "****\n",
      "***\n",
      "**\n",
      "*\n"
     ]
    }
   ],
   "source": [
    "n=6\n",
    "# 1\n",
    "for i in range(n,0,-1):\n",
    "    print('*' * i)\n",
    "\n",
    "# 2    \n",
    "for i in range(n):\n",
    "    print(\"*\" * (n-i))"
   ]
  },
  {
   "cell_type": "markdown",
   "metadata": {},
   "source": [
    "### 5. 아래와 층이 내려갈 수록 별이 하나씩 줄어드는 방식으로 별을 찍어라.\n",
    "\n",
    "```\n",
    "*******\n",
    " *****\n",
    "  ***\n",
    "   *\n",
    "```\n"
   ]
  },
  {
   "cell_type": "code",
   "execution_count": 47,
   "metadata": {},
   "outputs": [
    {
     "name": "stdout",
     "output_type": "stream",
     "text": [
      "*******\n",
      " ***** \n",
      "  ***  \n",
      "   *   \n"
     ]
    }
   ],
   "source": [
    "n = int(input(\"높이 입력\"))\n",
    "\n",
    "for i in range(n):\n",
    "    print(\" \"* i , end= \"\")\n",
    "    print(\"*\" * ((n-i)*2-1), end=\"\")\n",
    "    print(\" \"*i)"
   ]
  },
  {
   "cell_type": "markdown",
   "metadata": {},
   "source": [
    "### 6. 아래와 같이 다이아몬드 모양으로 별을 찍어라.\n",
    "\n",
    "```\n",
    "   *\n",
    "  ***\n",
    " *****\n",
    "*******\n",
    " *****\n",
    "  ***\n",
    "   *\n",
    "```\n"
   ]
  },
  {
   "cell_type": "code",
   "execution_count": 49,
   "metadata": {},
   "outputs": [
    {
     "name": "stdout",
     "output_type": "stream",
     "text": [
      "   *\n",
      "  ***\n",
      " *****\n",
      "*******\n",
      " *****\n",
      "  ***\n",
      "   *\n"
     ]
    }
   ],
   "source": [
    "n = int(input(\"크기기를 입력하세요: \"))\n",
    "\n",
    "# 위쪽 삼각형\n",
    "for i in range(n):\n",
    "    print(\" \" * (n - i - 1) + \"*\" * (2 * i + 1))\n",
    "\n",
    "# 아래 삼각형\n",
    "for i in range(n -2, -1, -1):\n",
    "    print(\" \" * (n - i - 1)  + \"*\" * (2 * i + 1))"
   ]
  },
  {
   "cell_type": "markdown",
   "metadata": {},
   "source": [
    "### 7.주어진 입력 n이 소수인지 아닌지 판별하라.\n",
    "\n",
    "**소수**\n",
    "\n",
    "- 1이하의 수는 소수가 아니다.\n",
    "\n",
    "- 소수는 약수가 1과 자기 자신밖에 없는 수이다.\n",
    "- 2부터 \"자기 자신 - 1\" 까지는 나누어 떨이지지 않는다.\n"
   ]
  },
  {
   "cell_type": "code",
   "execution_count": 22,
   "metadata": {},
   "outputs": [
    {
     "name": "stdout",
     "output_type": "stream",
     "text": [
      "12은 소수가 아닙니다.\n"
     ]
    }
   ],
   "source": [
    "def is_prime(n):\n",
    "    if n < 2:\n",
    "        return False\n",
    "    elif n == 2:\n",
    "        return True\n",
    "\n",
    "    for i in range(2, n):\n",
    "        if n % i == 0:  # n이 i로 나누어 떨어진다\n",
    "            return False\n",
    "\n",
    "    return True\n",
    "\n",
    "n = int(input(\"number 입력 : \"))\n",
    "if is_prime(n):\n",
    "    print(f\"{n}은 소수입니다.\")\n",
    "else:\n",
    "    print(f\"{n}은 소수가 아닙니다\")"
   ]
  },
  {
   "cell_type": "markdown",
   "metadata": {},
   "source": [
    "#### 단어 추측 게임\n",
    "\n",
    "**문제 설명:**\n",
    "\n",
    "> 컴퓨터가 하나의 단어를 선택하여 숨깁니다. 사용자는 이 단어를 하나의 문자씩 추측합니다. 사용자가 입력한 문자가 단어에 포함되어 있으면, 해당 문자가 표시되고 그렇지 않으면 횟수를 잃습니다. 사용자가 주어진 횟수 내에 모든 문자를 맞추면 승리하고, 그렇지 않으면 패배합니다.\n",
    "\n",
    "**구체적인 조건:**\n",
    "\n",
    "- 컴퓨터는 단어 리스트에서 무작위로 하나의 단어를 선택합니다.\n",
    "- 사용자는 단어의 길이만큼 \"\\_\"로 표시된 빈칸을 보게 되며, 매번 한 글자를 추측합니다.\n",
    "- 사용자가 맞추지 못한 문자가 있으면 기회가 줄어듭니다.\n",
    "- 사용자가 모든 문자를 맞추면 게임이 종료되고 \"정답입니다!\"라는 메시지가 출력됩니다.\n",
    "- 주어진 기회 내에 단어를 맞추지 못하면 \"기회를 모두 사용하셨습니다. 정답은 [단어]입니다.\"가 출력됩니다.\n"
   ]
  },
  {
   "cell_type": "code",
   "execution_count": 52,
   "metadata": {},
   "outputs": [],
   "source": [
    "# import nltk\n",
    "# from nltk.corpus import words\n",
    "\n",
    "# # 첫 실행 시 nltk 데이터를 다운로드해야 합니다.\n",
    "# nltk.download(\"words\")\n",
    "\n",
    "word_list = [\n",
    "    \"Apple\",\n",
    "    \"Elephant\",\n",
    "    \"Apple\",\n",
    "    \"Buffalo\",\n",
    "    \"Capture\",\n",
    "    \"Lantern\",\n",
    "    \"Mystery\",\n",
    "    \"Pirate\",\n",
    "    \"Volcano\",\n",
    "    \"Diamond\",\n",
    "    \"Theater\",\n",
    "    \"Journey\",\n",
    "    \"Galaxy\",\n",
    "    \"Octopus\",\n",
    "    \"Tremble\",\n",
    "    \"Blanket\",\n",
    "    \"Serpent\",\n",
    "    \"Network\",\n",
    "    \"Phoenix\",\n",
    "    \"Foreman\",\n",
    "    \"Pyramid\",\n",
    "    \"Sunrise\",\n",
    "    \"Fortress\",\n",
    "]"
   ]
  },
  {
   "cell_type": "code",
   "execution_count": 65,
   "metadata": {},
   "outputs": [
    {
     "data": {
      "text/plain": [
       "'sunrise'"
      ]
     },
     "execution_count": 65,
     "metadata": {},
     "output_type": "execute_result"
    }
   ],
   "source": [
    "import sys\n",
    "import random\n",
    "\n",
    "selected_word = random.choice(word_list).lower()  # 단어 목록에서 무작위로 단어 선택\n",
    "\n",
    "\n",
    "guessed_word = [\"_\"] * len(selected_word)\n",
    "attempts = 10\n",
    "used_letters = []  # 사용한 글자 목록을 저장할 리스트\n",
    "\n",
    "print(\"단어를 맞춰보세요! 각 글자를 하나씩 추측하세요.\")\n",
    "print(\" \".join(guessed_word))\n",
    "\n",
    "while attempts > 0:\n",
    "    sys.stdout.flush()  # 출력 버퍼를 비웁니다.\n",
    "\n",
    "    guess = input(\"글자를 입력하세요: \").lower()\n",
    "\n",
    "    if guess in used_letters:  # 사용한 글자 목록에 이미 있는 글자인지 확인\n",
    "        print(\"이미 사용한 글자입니다. 다른 글자를 선택하세요.\")\n",
    "        continue\n",
    "\n",
    "    used_letters.append(guess)  # 사용한 글자 목록에 추가\n",
    "\n",
    "    if guess in selected_word:\n",
    "        for idx, char in enumerate(selected_word):\n",
    "            if char == guess:\n",
    "                guessed_word[idx] = guess\n",
    "        print(\"맞았습니다!\")\n",
    "\n",
    "    else:\n",
    "        attempts -= 1\n",
    "        print(f\"틀렸습니다. 남은 기회: {attempts}\")\n",
    "\n",
    "    print(\" \".join(guessed_word))\n",
    "\n",
    "    if \"_\" not in guessed_word:\n",
    "        print(\"정답입니다! 단어:\", selected_word)\n",
    "        break\n",
    "\n",
    "else:\n",
    "    print(f\"기회를 모두 사용하셨습니다. 정답은 {selected_word}입니다.\")"
   ]
  }
 ],
 "metadata": {
  "kernelspec": {
   "display_name": "Python 3",
   "language": "python",
   "name": "python3"
  },
  "language_info": {
   "codemirror_mode": {
    "name": "ipython",
    "version": 3
   },
   "file_extension": ".py",
   "mimetype": "text/x-python",
   "name": "python",
   "nbconvert_exporter": "python",
   "pygments_lexer": "ipython3",
   "version": "3.12.8"
  }
 },
 "nbformat": 4,
 "nbformat_minor": 2
}
